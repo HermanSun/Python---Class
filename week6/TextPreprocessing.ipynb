{
 "cells": [
  {
   "cell_type": "code",
   "execution_count": 1,
   "metadata": {},
   "outputs": [],
   "source": [
    "##### manipulating text data"
   ]
  },
  {
   "cell_type": "code",
   "execution_count": 1,
   "metadata": {},
   "outputs": [],
   "source": [
    "import numpy as np\n",
    "import pandas as pd"
   ]
  },
  {
   "cell_type": "code",
   "execution_count": 2,
   "metadata": {},
   "outputs": [
    {
     "data": {
      "text/plain": [
       "\"Pirates of The Caribbean is quite simply Hollywood's best pirate \\nfilm in ages; a funny, rollicking swashbuckler that pays homage to the great \\nfilms of the 1930's and 1940's featuring the likes of Errol Flynn, Charles \\nLaughton, among others.\""
      ]
     },
     "execution_count": 2,
     "metadata": {},
     "output_type": "execute_result"
    }
   ],
   "source": [
    "# text (from BB)\n",
    "text = \"\"\"Pirates of The Caribbean is quite simply Hollywood's best pirate \n",
    "film in ages; a funny, rollicking swashbuckler that pays homage to the great \n",
    "films of the 1930's and 1940's featuring the likes of Errol Flynn, Charles \n",
    "Laughton, among others.\"\"\"\n",
    "text"
   ]
  },
  {
   "cell_type": "code",
   "execution_count": 3,
   "metadata": {},
   "outputs": [
    {
     "name": "stdout",
     "output_type": "stream",
     "text": [
      "pirates caribbean quite simply hollywood best pirate film ages funny rollicking swashbuckler pays homage great films featuring likes errol flynn charles laughton among others\n"
     ]
    }
   ],
   "source": [
    "# lower case\n",
    "text = text.lower()          \n",
    "\n",
    "# remove digits \n",
    "import re\n",
    "import string\n",
    "regex = re.compile(r\"[%s]\" % string.digits)\n",
    "text = regex.sub(' ', text)      \n",
    "\n",
    "# remove punctuation \n",
    "import re\n",
    "import string\n",
    "regex = re.compile(r\"[%s]\" % string.punctuation)\n",
    "text = regex.sub(' ', text)  \n",
    "\n",
    "# replace one or more white-space characters with a space\n",
    "regex = re.compile(r\"\\s+\")                               \n",
    "text = regex.sub(' ', text)       \n",
    "\n",
    "# remove stop words\n",
    "import nltk\n",
    "#nltk.download('stopwords')\n",
    "from nltk.corpus import stopwords\n",
    "sw = stopwords.words('english')                 \n",
    "text = ' '.join([w for w in text.split() if w not in sw]) \n",
    "\n",
    "print(text)"
   ]
  },
  {
   "cell_type": "code",
   "execution_count": 4,
   "metadata": {},
   "outputs": [
    {
     "data": {
      "text/plain": [
       "'pirates caribbean quite simply hollywood pirate funny rollicking swashbuckler homage great films featuring likes errol flynn charles laughton among others'"
      ]
     },
     "execution_count": 4,
     "metadata": {},
     "output_type": "execute_result"
    }
   ],
   "source": [
    "# remove short words\n",
    "' '.join([w for w in text.split() if len(w) > 4])"
   ]
  },
  {
   "cell_type": "code",
   "execution_count": 10,
   "metadata": {},
   "outputs": [
    {
     "data": {
      "text/plain": [
       "'likes charles homage flynn featuring errol pirate pirates ages simply pays funny caribbean quite others rollicking great swashbuckler films best laughton among film hollywood'"
      ]
     },
     "execution_count": 10,
     "metadata": {},
     "output_type": "execute_result"
    }
   ],
   "source": [
    "# retain only unique words\n",
    "' '.join(set(text.split()))"
   ]
  },
  {
   "cell_type": "code",
   "execution_count": 11,
   "metadata": {},
   "outputs": [
    {
     "data": {
      "text/plain": [
       "'pirat caribbean quit simpli hollywood best pirat film age funni rollick swashbuckl pay homag great film featur like errol flynn charl laughton among other'"
      ]
     },
     "execution_count": 11,
     "metadata": {},
     "output_type": "execute_result"
    }
   ],
   "source": [
    "# stemming attempts to get at the word root through a (often crude) heuristic process \n",
    "# https://www.nltk.org/api/nltk.stem.html#module-nltk.stem.porter #reduce dimension of dataset \n",
    "from nltk.stem.porter import PorterStemmer\n",
    "' '.join([(PorterStemmer()).stem(w) for w in text.split()]) \n",
    "#ps = PorterStemmer()\n",
    "#ps.stem(\"wolves\")"
   ]
  },
  {
   "cell_type": "code",
   "execution_count": 12,
   "metadata": {},
   "outputs": [
    {
     "data": {
      "text/plain": [
       "'wolv'"
      ]
     },
     "execution_count": 12,
     "metadata": {},
     "output_type": "execute_result"
    }
   ],
   "source": [
    "ps = PorterStemmer()\n",
    "ps.stem(\"wolves\")"
   ]
  },
  {
   "cell_type": "code",
   "execution_count": 13,
   "metadata": {},
   "outputs": [
    {
     "name": "stdout",
     "output_type": "stream",
     "text": [
      "[nltk_data] Downloading package wordnet to\n",
      "[nltk_data]     C:\\Users\\herma\\AppData\\Roaming\\nltk_data...\n",
      "[nltk_data]   Unzipping corpora\\wordnet.zip.\n"
     ]
    },
    {
     "data": {
      "text/plain": [
       "True"
      ]
     },
     "execution_count": 13,
     "metadata": {},
     "output_type": "execute_result"
    }
   ],
   "source": [
    "import nltk\n",
    "nltk.download('wordnet')"
   ]
  },
  {
   "cell_type": "code",
   "execution_count": 14,
   "metadata": {},
   "outputs": [
    {
     "data": {
      "text/plain": [
       "'pirate caribbean quite simply hollywood best pirate film age funny rollicking swashbuckler pay homage great film featuring like errol flynn charles laughton among others'"
      ]
     },
     "execution_count": 14,
     "metadata": {},
     "output_type": "execute_result"
    }
   ],
   "source": [
    "# lemmatization attempts to get the word root through vocabulary and morphological analysis\n",
    "# https://www.nltk.org/api/nltk.stem.html#module-nltk.stem.wordnet\n",
    "from nltk.stem import WordNetLemmatizer\n",
    "' '.join([(WordNetLemmatizer()).lemmatize(w) for w in text.split()]) \n",
    "# lem = WordNetLemmatizer()\n",
    "# lem.lemmatize(\"wolves\")"
   ]
  },
  {
   "cell_type": "code",
   "execution_count": 15,
   "metadata": {},
   "outputs": [
    {
     "data": {
      "text/plain": [
       "'wolf'"
      ]
     },
     "execution_count": 15,
     "metadata": {},
     "output_type": "execute_result"
    }
   ],
   "source": [
    "lem = WordNetLemmatizer()\n",
    "lem.lemmatize(\"wolves\")"
   ]
  },
  {
   "cell_type": "code",
   "execution_count": null,
   "metadata": {},
   "outputs": [],
   "source": []
  }
 ],
 "metadata": {
  "kernelspec": {
   "display_name": "Python 3",
   "language": "python",
   "name": "python3"
  },
  "language_info": {
   "codemirror_mode": {
    "name": "ipython",
    "version": 3
   },
   "file_extension": ".py",
   "mimetype": "text/x-python",
   "name": "python",
   "nbconvert_exporter": "python",
   "pygments_lexer": "ipython3",
   "version": "3.7.0"
  }
 },
 "nbformat": 4,
 "nbformat_minor": 2
}
