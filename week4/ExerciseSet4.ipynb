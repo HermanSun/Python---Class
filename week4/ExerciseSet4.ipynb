{
 "cells": [
  {
   "cell_type": "code",
   "execution_count": 68,
   "metadata": {},
   "outputs": [],
   "source": [
    "##### manipulating text data"
   ]
  },
  {
   "cell_type": "code",
   "execution_count": 1,
   "metadata": {},
   "outputs": [],
   "source": [
    "import numpy as np\n",
    "import pandas as pd"
   ]
  },
  {
   "cell_type": "code",
   "execution_count": 2,
   "metadata": {},
   "outputs": [
    {
     "name": "stdout",
     "output_type": "stream",
     "text": [
      "[nltk_data] Downloading package stopwords to\n",
      "[nltk_data]     C:\\Users\\herma\\AppData\\Roaming\\nltk_data...\n",
      "[nltk_data]   Package stopwords is already up-to-date!\n"
     ]
    }
   ],
   "source": [
    "import re\n",
    "import string\n",
    "import nltk\n",
    "nltk.download('stopwords')\n",
    "from nltk.corpus import stopwords"
   ]
  },
  {
   "cell_type": "code",
   "execution_count": 4,
   "metadata": {},
   "outputs": [
    {
     "data": {
      "text/plain": [
       "'yes, that is a duplicate catalog category. the catalog number is c1357-a.'"
      ]
     },
     "execution_count": 4,
     "metadata": {},
     "output_type": "execute_result"
    }
   ],
   "source": [
    "# lowercase string data\n",
    "text = \"Yes, that is a duplicate catalog category. The catalog number is C1357-A.\"\n",
    "text = text.lower()\n",
    "text"
   ]
  },
  {
   "cell_type": "code",
   "execution_count": 5,
   "metadata": {},
   "outputs": [
    {
     "data": {
      "text/plain": [
       "'Yes, that is a dupli#e Catalog #egory. The Catalog number is C1357-A.'"
      ]
     },
     "execution_count": 5,
     "metadata": {},
     "output_type": "execute_result"
    }
   ],
   "source": [
    "# replace a string with another string or character\n",
    "text = \"Yes, that is a duplicate Catalog category. The Catalog number is C1357-A.\"\n",
    "regex = re.compile(r\"cat\")\n",
    "text = regex.sub(\"#\", text)\n",
    "text"
   ]
  },
  {
   "cell_type": "code",
   "execution_count": 6,
   "metadata": {},
   "outputs": [
    {
     "data": {
      "text/plain": [
       "'Yes, #h## is # dupli###e ####log ###egory. #he ####log number is #1357-#.'"
      ]
     },
     "execution_count": 6,
     "metadata": {},
     "output_type": "execute_result"
    }
   ],
   "source": [
    "# replace a set of characters appearing anywhere with another string or character:\n",
    "# here we'll use a character class made up of characters c, a, and t directly\n",
    "text = \"Yes, that is a duplicate catalog category. The catalog number is C1357-A.\"\n",
    "regex = re.compile(r\"[cat]\", re.IGNORECASE)\n",
    "text = regex.sub(\"#\", text)\n",
    "text"
   ]
  },
  {
   "cell_type": "code",
   "execution_count": 7,
   "metadata": {},
   "outputs": [
    {
     "data": {
      "text/plain": [
       "'Yes, #h## is # dupli###e ####log ###egory. #he ####log number is #1357-#.'"
      ]
     },
     "execution_count": 7,
     "metadata": {},
     "output_type": "execute_result"
    }
   ],
   "source": [
    "# replace a set of characters appearing anywhere with another string or character:\n",
    "# here we'll use a character class made up of characters c, a, and t directly\n",
    "# since it's just a character class, it doesn't matter in what order the characters c, a, t \n",
    "# appear in the character class .\n",
    "text = \"Yes, that is a duplicate catalog category. The catalog number is C1357-A.\"\n",
    "regex = re.compile(r\"[tac]\", re.IGNORECASE)\n",
    "text = regex.sub(\"#\", text)\n",
    "text"
   ]
  },
  {
   "cell_type": "code",
   "execution_count": 8,
   "metadata": {},
   "outputs": [
    {
     "data": {
      "text/plain": [
       "'Yes, #h## is # dupli###e ####log ###egory. #he ####log number is #1357-#.'"
      ]
     },
     "execution_count": 8,
     "metadata": {},
     "output_type": "execute_result"
    }
   ],
   "source": [
    "# replace a set of characters appearing anywhere with another string or character:\n",
    "# here we'll create a character class of characters c, a, and t, using string formatting\n",
    "text = \"Yes, that is a duplicate catalog category. The catalog number is C1357-A.\"\n",
    "pattern = \"cat\"\n",
    "regex = re.compile(r\"[%s]\" % pattern, re.IGNORECASE)\n",
    "text = regex.sub(\"#\", text)\n",
    "text"
   ]
  },
  {
   "cell_type": "code",
   "execution_count": 9,
   "metadata": {},
   "outputs": [
    {
     "data": {
      "text/plain": [
       "'Yes, that is a duplicate catalog category. The catalog number is C####-A.'"
      ]
     },
     "execution_count": 9,
     "metadata": {},
     "output_type": "execute_result"
    }
   ],
   "source": [
    "# replace digits appearing anywhere with another string or character:\n",
    "# here we'll use a character class made up of digits 0-9 directly\n",
    "text = \"Yes, that is a duplicate catalog category. The catalog number is C1357-A.\"\n",
    "regex = re.compile(r\"[0-9]\")\n",
    "text = regex.sub(\"#\", text)\n",
    "text"
   ]
  },
  {
   "cell_type": "code",
   "execution_count": 10,
   "metadata": {},
   "outputs": [
    {
     "data": {
      "text/plain": [
       "'0123456789'"
      ]
     },
     "execution_count": 10,
     "metadata": {},
     "output_type": "execute_result"
    }
   ],
   "source": [
    "string.digits"
   ]
  },
  {
   "cell_type": "code",
   "execution_count": 11,
   "metadata": {},
   "outputs": [
    {
     "data": {
      "text/plain": [
       "'Yes, that is a duplicate catalog category. The catalog number is C####-A.'"
      ]
     },
     "execution_count": 11,
     "metadata": {},
     "output_type": "execute_result"
    }
   ],
   "source": [
    "# replace digits appearing anywhere with another string or character:\n",
    "# here we'll create a character class of digits using string formatting\n",
    "text = \"Yes, that is a duplicate catalog category. The catalog number is C1357-A.\"\n",
    "pattern = string.digits\n",
    "regex = re.compile(r\"[%s]\" % pattern)\n",
    "text = regex.sub(\"#\", text)\n",
    "text"
   ]
  },
  {
   "cell_type": "code",
   "execution_count": 12,
   "metadata": {},
   "outputs": [
    {
     "data": {
      "text/plain": [
       "'!\"#$%&\\'()*+,-./:;<=>?@[\\\\]^_`{|}~'"
      ]
     },
     "execution_count": 12,
     "metadata": {},
     "output_type": "execute_result"
    }
   ],
   "source": [
    "string.punctuation"
   ]
  },
  {
   "cell_type": "code",
   "execution_count": 13,
   "metadata": {},
   "outputs": [
    {
     "data": {
      "text/plain": [
       "'Yes# that is a duplicate catalog category# The catalog number is C1357#A#'"
      ]
     },
     "execution_count": 13,
     "metadata": {},
     "output_type": "execute_result"
    }
   ],
   "source": [
    "# similarly, can replace punctuations with another string or character:\n",
    "# here we'll create a character class of punctuations using string formatting\n",
    "text = \"Yes, that is a duplicate catalog category. The catalog number is C1357-A.\"\n",
    "pattern = string.punctuation\n",
    "regex = re.compile(r\"[%s]\" % pattern)\n",
    "text = regex.sub(\"#\", text)\n",
    "text"
   ]
  },
  {
   "cell_type": "code",
   "execution_count": 14,
   "metadata": {},
   "outputs": [
    {
     "data": {
      "text/plain": [
       "'Yes# that is a duplicate catalog category# The catalog number is C#####A#'"
      ]
     },
     "execution_count": 14,
     "metadata": {},
     "output_type": "execute_result"
    }
   ],
   "source": [
    "# similarly, can replace digits AND punctuations with another string or character:\n",
    "# here we'll create a character class of digits and punctuations using string formatting\n",
    "text = \"Yes, that is a duplicate catalog category. The catalog number is C1357-A.\"\n",
    "pattern1 = string.digits\n",
    "pattern2 = string.punctuation\n",
    "regex = re.compile(r\"[%s%s]\" % (pattern1,pattern2))\n",
    "text = regex.sub(\"#\", text)\n",
    "text"
   ]
  },
  {
   "cell_type": "code",
   "execution_count": 15,
   "metadata": {},
   "outputs": [
    {
     "data": {
      "text/plain": [
       "'Yes that is a duplicate catalog category The catalog number is CA'"
      ]
     },
     "execution_count": 15,
     "metadata": {},
     "output_type": "execute_result"
    }
   ],
   "source": [
    "# or, as is done more typically, we can get rid of  digits and punctuation by replacing with \n",
    "# empty string \n",
    "text = \"Yes, that is a duplicate catalog category. The catalog number is C1357-A.\"\n",
    "pattern1 = string.digits\n",
    "pattern2 = string.punctuation\n",
    "regex = re.compile(r\"[%s%s]\" % (pattern1,pattern2))\n",
    "text = regex.sub(\"\", text)\n",
    "text"
   ]
  },
  {
   "cell_type": "code",
   "execution_count": 16,
   "metadata": {},
   "outputs": [
    {
     "data": {
      "text/plain": [
       "'Yes, that is a duplicate catalog category. The catalog number is C1357-A. '"
      ]
     },
     "execution_count": 16,
     "metadata": {},
     "output_type": "execute_result"
    }
   ],
   "source": [
    "# replace one or more white-space characters with single space\n",
    "text = \"Yes, that is a duplicate   catalog \\t category. The   catalog    number is C1357-A.\\n\"\n",
    "regex = re.compile(r\"\\s+\")\n",
    "regex.sub(' ', text)\n",
    "#re.sub(r\"\\s+\", ' ', text)"
   ]
  },
  {
   "cell_type": "code",
   "execution_count": 17,
   "metadata": {},
   "outputs": [
    {
     "data": {
      "text/plain": [
       "'Yes, duplicate catalog category. catalog number C1357-A.'"
      ]
     },
     "execution_count": 17,
     "metadata": {},
     "output_type": "execute_result"
    }
   ],
   "source": [
    "# remove stopwords from a sentence\n",
    "# hint: use split, list comprehension, and join\n",
    "\n",
    "sen = \"Yes, that is a duplicate catalog category. The catalog number is C1357-A.\"\n",
    "sw = ['the', 'is', 'a', 'that', 'in']\n",
    "\n",
    "senlst = sen.split()\n",
    "senclean = ' '.join([w for w in senlst if w.lower() not in sw])\n",
    "senclean"
   ]
  },
  {
   "cell_type": "code",
   "execution_count": 85,
   "metadata": {},
   "outputs": [
    {
     "data": {
      "text/plain": [
       "\"Python is an interpreted, high-level, general-purpose programming \\nlanguage. Created by Guido van Rossum and first released in 1991, Python has a \\ndesign philosophy that emphasizes code readability, notably using significant \\nwhitespace. It provides constructs that enable clear programming on both small \\nand large scales.[26] Van Rossum led the language community until stepping \\ndown as leader in July 2018.[27][28] Python features a dynamic type system \\nand automatic memory management. It supports multiple programming paradigms, \\nincluding object-oriented, imperative, functional and procedural, and has a \\nlarge and comprehensive standard library.[29] Python interpreters are \\navailable for many operating systems. CPython, the reference implementation of \\nPython, is open source software[30] and has a community-based development \\nmodel, as do nearly all of Python's other implementations. Python and CPython \\nare managed by the non-profit Python Software Foundation.\""
      ]
     },
     "execution_count": 85,
     "metadata": {},
     "output_type": "execute_result"
    }
   ],
   "source": [
    "# text (from BB)\n",
    "text = \"\"\"Python is an interpreted, high-level, general-purpose programming \n",
    "language. Created by Guido van Rossum and first released in 1991, Python has a \n",
    "design philosophy that emphasizes code readability, notably using significant \n",
    "whitespace. It provides constructs that enable clear programming on both small \n",
    "and large scales.[26] Van Rossum led the language community until stepping \n",
    "down as leader in July 2018.[27][28] Python features a dynamic type system \n",
    "and automatic memory management. It supports multiple programming paradigms, \n",
    "including object-oriented, imperative, functional and procedural, and has a \n",
    "large and comprehensive standard library.[29] Python interpreters are \n",
    "available for many operating systems. CPython, the reference implementation of \n",
    "Python, is open source software[30] and has a community-based development \n",
    "model, as do nearly all of Python's other implementations. Python and CPython \n",
    "are managed by the non-profit Python Software Foundation.\"\"\"\n",
    "text"
   ]
  },
  {
   "cell_type": "code",
   "execution_count": 86,
   "metadata": {},
   "outputs": [
    {
     "data": {
      "text/plain": [
       "'python interpreted high level general purpose programming language created guido van rossum first released python design philosophy emphasizes code readability notably using significant whitespace provides constructs enable clear programming small large scales van rossum led language community stepping leader july python features dynamic type system automatic memory management supports multiple programming paradigms including object oriented imperative functional procedural large comprehensive standard library python interpreters available many operating systems cpython reference implementation python open source software community based development model nearly python implementations python cpython managed non profit python software foundation'"
      ]
     },
     "execution_count": 86,
     "metadata": {},
     "output_type": "execute_result"
    }
   ],
   "source": [
    "# preprocess text - lower case, remove digits, remove punctuation, remove extra white-spaces, \n",
    "# remove stop words\n",
    "\n",
    "# all englist stopwords\n",
    "sw = stopwords.words('english')\n",
    "\n",
    "# lower case\n",
    "text = text.lower()          \n",
    "# remove digits and punctuation\n",
    "regex = re.compile(r\"[%s%s]\" % (string.punctuation, string.digits))\n",
    "text = regex.sub(' ', text)        \n",
    "# replace one or more white-space characters with a space\n",
    "regex = re.compile(r\"\\s+\")                               \n",
    "text = regex.sub(' ', text)       \n",
    "# remove stop words\n",
    "text = text.split()                                              \n",
    "text = ' '.join([w for w in text if w not in sw]) \n",
    "text"
   ]
  },
  {
   "cell_type": "code",
   "execution_count": 87,
   "metadata": {},
   "outputs": [],
   "source": [
    "# write a function preprocess(text) that pre-processes the text:\n",
    "# lower case, remove digits, remove punctuation, remove extra white-spaces, remove stop words\n",
    "def preprocess(text):\n",
    "    # lower case\n",
    "    text = text.lower()          \n",
    "    # remove digits and punctuation\n",
    "    regex = re.compile(r\"[%s%s]\" % (string.punctuation, string.digits))\n",
    "    text = regex.sub(' ', text)        \n",
    "    # replace one or more white-space characters with a space\n",
    "    regex = re.compile(r\"\\s+\")                               \n",
    "    text = regex.sub(' ', text)       \n",
    "    # remove stop words\n",
    "    text = text.split()                                              \n",
    "    text = ' '.join([w for w in text if w not in sw]) \n",
    "    return text"
   ]
  },
  {
   "cell_type": "code",
   "execution_count": 88,
   "metadata": {},
   "outputs": [
    {
     "data": {
      "text/plain": [
       "['This is a brown house. This house is big.',\n",
       " 'This is a small house. This house has 1 bedroom.',\n",
       " 'This dog is brown. This dog likes to play',\n",
       " 'The dog is in the bedroom.']"
      ]
     },
     "execution_count": 88,
     "metadata": {},
     "output_type": "execute_result"
    }
   ],
   "source": [
    "# doc corpus (from BB)\n",
    "corpus = [\"This is a brown house. This house is big.\",\n",
    "          \"This is a small house. This house has 1 bedroom.\",\n",
    "          \"This dog is brown. This dog likes to play\",\n",
    "          \"The dog is in the bedroom.\"]\n",
    "corpus"
   ]
  },
  {
   "cell_type": "code",
   "execution_count": 89,
   "metadata": {},
   "outputs": [
    {
     "data": {
      "text/plain": [
       "['brown house house big',\n",
       " 'small house house bedroom',\n",
       " 'dog brown dog likes play',\n",
       " 'dog bedroom']"
      ]
     },
     "execution_count": 89,
     "metadata": {},
     "output_type": "execute_result"
    }
   ],
   "source": [
    "# use list comprehension to preprocess documents in the corpus\n",
    "corpus = list(map(preprocess, corpus))\n",
    "corpus"
   ]
  },
  {
   "cell_type": "code",
   "execution_count": 90,
   "metadata": {},
   "outputs": [
    {
     "data": {
      "text/plain": [
       "[['brown', 'house', 'house', 'big'],\n",
       " ['small', 'house', 'house', 'bedroom'],\n",
       " ['dog', 'brown', 'dog', 'likes', 'play'],\n",
       " ['dog', 'bedroom']]"
      ]
     },
     "execution_count": 90,
     "metadata": {},
     "output_type": "execute_result"
    }
   ],
   "source": [
    "# use list comprehension to split documents in the corpus to a list of words\n",
    "corpus = [c.split() for c in corpus]\n",
    "corpus"
   ]
  },
  {
   "cell_type": "code",
   "execution_count": 91,
   "metadata": {},
   "outputs": [
    {
     "data": {
      "text/plain": [
       "[0    brown\n",
       " 1    house\n",
       " 2    house\n",
       " 3      big\n",
       " dtype: object, 0      small\n",
       " 1      house\n",
       " 2      house\n",
       " 3    bedroom\n",
       " dtype: object, 0      dog\n",
       " 1    brown\n",
       " 2      dog\n",
       " 3    likes\n",
       " 4     play\n",
       " dtype: object, 0        dog\n",
       " 1    bedroom\n",
       " dtype: object]"
      ]
     },
     "execution_count": 91,
     "metadata": {},
     "output_type": "execute_result"
    }
   ],
   "source": [
    "# use list comprehension to convert each document in corpus from list of words notation to series objects (with default indices)\n",
    "corpus = [pd.Series(c) for c in corpus]\n",
    "corpus"
   ]
  },
  {
   "cell_type": "code",
   "execution_count": 92,
   "metadata": {},
   "outputs": [
    {
     "data": {
      "text/plain": [
       "[house    2\n",
       " brown    1\n",
       " big      1\n",
       " dtype: int64, house      2\n",
       " bedroom    1\n",
       " small      1\n",
       " dtype: int64, dog      2\n",
       " play     1\n",
       " brown    1\n",
       " likes    1\n",
       " dtype: int64, bedroom    1\n",
       " dog        1\n",
       " dtype: int64]"
      ]
     },
     "execution_count": 92,
     "metadata": {},
     "output_type": "execute_result"
    }
   ],
   "source": [
    "# use list comprehension along with value_counts method to convert word series to word frequency series\n",
    "corpus = [c.value_counts() for c in corpus]\n",
    "corpus"
   ]
  },
  {
   "cell_type": "code",
   "execution_count": 93,
   "metadata": {},
   "outputs": [
    {
     "data": {
      "text/html": [
       "<div>\n",
       "<style scoped>\n",
       "    .dataframe tbody tr th:only-of-type {\n",
       "        vertical-align: middle;\n",
       "    }\n",
       "\n",
       "    .dataframe tbody tr th {\n",
       "        vertical-align: top;\n",
       "    }\n",
       "\n",
       "    .dataframe thead th {\n",
       "        text-align: right;\n",
       "    }\n",
       "</style>\n",
       "<table border=\"1\" class=\"dataframe\">\n",
       "  <thead>\n",
       "    <tr style=\"text-align: right;\">\n",
       "      <th></th>\n",
       "      <th>house</th>\n",
       "      <th>brown</th>\n",
       "      <th>big</th>\n",
       "      <th>bedroom</th>\n",
       "      <th>small</th>\n",
       "      <th>dog</th>\n",
       "      <th>play</th>\n",
       "      <th>likes</th>\n",
       "    </tr>\n",
       "  </thead>\n",
       "  <tbody>\n",
       "    <tr>\n",
       "      <th>0</th>\n",
       "      <td>2.0</td>\n",
       "      <td>1.0</td>\n",
       "      <td>1.0</td>\n",
       "      <td>NaN</td>\n",
       "      <td>NaN</td>\n",
       "      <td>NaN</td>\n",
       "      <td>NaN</td>\n",
       "      <td>NaN</td>\n",
       "    </tr>\n",
       "    <tr>\n",
       "      <th>1</th>\n",
       "      <td>2.0</td>\n",
       "      <td>NaN</td>\n",
       "      <td>NaN</td>\n",
       "      <td>1.0</td>\n",
       "      <td>1.0</td>\n",
       "      <td>NaN</td>\n",
       "      <td>NaN</td>\n",
       "      <td>NaN</td>\n",
       "    </tr>\n",
       "    <tr>\n",
       "      <th>2</th>\n",
       "      <td>NaN</td>\n",
       "      <td>1.0</td>\n",
       "      <td>NaN</td>\n",
       "      <td>NaN</td>\n",
       "      <td>NaN</td>\n",
       "      <td>2.0</td>\n",
       "      <td>1.0</td>\n",
       "      <td>1.0</td>\n",
       "    </tr>\n",
       "    <tr>\n",
       "      <th>3</th>\n",
       "      <td>NaN</td>\n",
       "      <td>NaN</td>\n",
       "      <td>NaN</td>\n",
       "      <td>1.0</td>\n",
       "      <td>NaN</td>\n",
       "      <td>1.0</td>\n",
       "      <td>NaN</td>\n",
       "      <td>NaN</td>\n",
       "    </tr>\n",
       "  </tbody>\n",
       "</table>\n",
       "</div>"
      ],
      "text/plain": [
       "   house  brown  big  bedroom  small  dog  play  likes\n",
       "0    2.0    1.0  1.0      NaN    NaN  NaN   NaN    NaN\n",
       "1    2.0    NaN  NaN      1.0    1.0  NaN   NaN    NaN\n",
       "2    NaN    1.0  NaN      NaN    NaN  2.0   1.0    1.0\n",
       "3    NaN    NaN  NaN      1.0    NaN  1.0   NaN    NaN"
      ]
     },
     "execution_count": 93,
     "metadata": {},
     "output_type": "execute_result"
    }
   ],
   "source": [
    "# convert the corpus to a dataframe\n",
    "df = pd.DataFrame(corpus)\n",
    "df"
   ]
  },
  {
   "cell_type": "code",
   "execution_count": 94,
   "metadata": {},
   "outputs": [
    {
     "data": {
      "text/html": [
       "<div>\n",
       "<style scoped>\n",
       "    .dataframe tbody tr th:only-of-type {\n",
       "        vertical-align: middle;\n",
       "    }\n",
       "\n",
       "    .dataframe tbody tr th {\n",
       "        vertical-align: top;\n",
       "    }\n",
       "\n",
       "    .dataframe thead th {\n",
       "        text-align: right;\n",
       "    }\n",
       "</style>\n",
       "<table border=\"1\" class=\"dataframe\">\n",
       "  <thead>\n",
       "    <tr style=\"text-align: right;\">\n",
       "      <th></th>\n",
       "      <th>house</th>\n",
       "      <th>brown</th>\n",
       "      <th>big</th>\n",
       "      <th>bedroom</th>\n",
       "      <th>small</th>\n",
       "      <th>dog</th>\n",
       "      <th>play</th>\n",
       "      <th>likes</th>\n",
       "    </tr>\n",
       "  </thead>\n",
       "  <tbody>\n",
       "    <tr>\n",
       "      <th>0</th>\n",
       "      <td>2.0</td>\n",
       "      <td>1.0</td>\n",
       "      <td>1.0</td>\n",
       "      <td>0.0</td>\n",
       "      <td>0.0</td>\n",
       "      <td>0.0</td>\n",
       "      <td>0.0</td>\n",
       "      <td>0.0</td>\n",
       "    </tr>\n",
       "    <tr>\n",
       "      <th>1</th>\n",
       "      <td>2.0</td>\n",
       "      <td>0.0</td>\n",
       "      <td>0.0</td>\n",
       "      <td>1.0</td>\n",
       "      <td>1.0</td>\n",
       "      <td>0.0</td>\n",
       "      <td>0.0</td>\n",
       "      <td>0.0</td>\n",
       "    </tr>\n",
       "    <tr>\n",
       "      <th>2</th>\n",
       "      <td>0.0</td>\n",
       "      <td>1.0</td>\n",
       "      <td>0.0</td>\n",
       "      <td>0.0</td>\n",
       "      <td>0.0</td>\n",
       "      <td>2.0</td>\n",
       "      <td>1.0</td>\n",
       "      <td>1.0</td>\n",
       "    </tr>\n",
       "    <tr>\n",
       "      <th>3</th>\n",
       "      <td>0.0</td>\n",
       "      <td>0.0</td>\n",
       "      <td>0.0</td>\n",
       "      <td>1.0</td>\n",
       "      <td>0.0</td>\n",
       "      <td>1.0</td>\n",
       "      <td>0.0</td>\n",
       "      <td>0.0</td>\n",
       "    </tr>\n",
       "  </tbody>\n",
       "</table>\n",
       "</div>"
      ],
      "text/plain": [
       "   house  brown  big  bedroom  small  dog  play  likes\n",
       "0    2.0    1.0  1.0      0.0    0.0  0.0   0.0    0.0\n",
       "1    2.0    0.0  0.0      1.0    1.0  0.0   0.0    0.0\n",
       "2    0.0    1.0  0.0      0.0    0.0  2.0   1.0    1.0\n",
       "3    0.0    0.0  0.0      1.0    0.0  1.0   0.0    0.0"
      ]
     },
     "execution_count": 94,
     "metadata": {},
     "output_type": "execute_result"
    }
   ],
   "source": [
    "# fill missing values with 0\n",
    "df.fillna(value=0, inplace=True)\n",
    "df"
   ]
  },
  {
   "cell_type": "code",
   "execution_count": null,
   "metadata": {},
   "outputs": [],
   "source": []
  },
  {
   "cell_type": "code",
   "execution_count": null,
   "metadata": {},
   "outputs": [],
   "source": []
  }
 ],
 "metadata": {
  "kernelspec": {
   "display_name": "Python 3",
   "language": "python",
   "name": "python3"
  },
  "language_info": {
   "codemirror_mode": {
    "name": "ipython",
    "version": 3
   },
   "file_extension": ".py",
   "mimetype": "text/x-python",
   "name": "python",
   "nbconvert_exporter": "python",
   "pygments_lexer": "ipython3",
   "version": "3.7.0"
  }
 },
 "nbformat": 4,
 "nbformat_minor": 2
}
