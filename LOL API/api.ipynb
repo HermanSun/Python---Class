{
 "cells": [
  {
   "cell_type": "code",
   "execution_count": 1,
   "metadata": {},
   "outputs": [
    {
     "name": "stdout",
     "output_type": "stream",
     "text": [
      "\n",
      "The following command must be run outside of the IPython shell:\n",
      "\n",
      "    $ pip install riotwatcher\n",
      "\n",
      "The Python package manager (pip) can only be used from outside of IPython.\n",
      "Please reissue the `pip` command in a separate terminal or command prompt.\n",
      "\n",
      "See the Python documentation for more information on how to install packages:\n",
      "\n",
      "    https://docs.python.org/3/installing/\n"
     ]
    }
   ],
   "source": [
    "#pip install riotwatcher"
   ]
  },
  {
   "cell_type": "code",
   "execution_count": 5,
   "metadata": {},
   "outputs": [],
   "source": [
    "import pandas as pd"
   ]
  },
  {
   "cell_type": "code",
   "execution_count": 14,
   "metadata": {},
   "outputs": [
    {
     "name": "stdout",
     "output_type": "stream",
     "text": [
      "{'id': 'uLWwna2mm90UJkJqSeZKH6hRXCO0iEm6nCMam8hZp75q7Cs', 'accountId': 'cMCN5m_oV2PybJ73XYp3O1Qqar6mFWjSNKBhaQ_f07tpsuI', 'puuid': 'LJel6hgHrQA_tCREZ6X86olF3rE_wdepWpapkfKDgofEkhImluTy8_H9rDa1trD0Lw82vN7xjS3XSA', 'name': 'HermanWifiSun', 'profileIconId': 3873, 'revisionDate': 1553558330000, 'summonerLevel': 78}\n",
      "[]\n"
     ]
    },
    {
     "ename": "AttributeError",
     "evalue": "'RiotWatcher' object has no attribute 'static_data'",
     "output_type": "error",
     "traceback": [
      "\u001b[1;31m---------------------------------------------------------------------------\u001b[0m",
      "\u001b[1;31mAttributeError\u001b[0m                            Traceback (most recent call last)",
      "\u001b[1;32m<ipython-input-14-f88c1ae4811d>\u001b[0m in \u001b[0;36m<module>\u001b[1;34m()\u001b[0m\n\u001b[0;32m     13\u001b[0m \u001b[0mprint\u001b[0m\u001b[1;33m(\u001b[0m\u001b[0mmy_ranked_stats\u001b[0m\u001b[1;33m)\u001b[0m\u001b[1;33m\u001b[0m\u001b[0m\n\u001b[0;32m     14\u001b[0m \u001b[1;33m\u001b[0m\u001b[0m\n\u001b[1;32m---> 15\u001b[1;33m \u001b[0mstatic_champ_list\u001b[0m \u001b[1;33m=\u001b[0m \u001b[0mwatcher\u001b[0m\u001b[1;33m.\u001b[0m\u001b[0mstatic_data\u001b[0m\u001b[1;33m.\u001b[0m\u001b[0mchampions\u001b[0m\u001b[1;33m(\u001b[0m\u001b[0mmy_region\u001b[0m\u001b[1;33m)\u001b[0m\u001b[1;33m\u001b[0m\u001b[0m\n\u001b[0m\u001b[0;32m     16\u001b[0m \u001b[0mprint\u001b[0m\u001b[1;33m(\u001b[0m\u001b[0mstatic_champ_list\u001b[0m\u001b[1;33m)\u001b[0m\u001b[1;33m\u001b[0m\u001b[0m\n\u001b[0;32m     17\u001b[0m \u001b[1;33m\u001b[0m\u001b[0m\n",
      "\u001b[1;31mAttributeError\u001b[0m: 'RiotWatcher' object has no attribute 'static_data'"
     ]
    }
   ],
   "source": [
    "from riotwatcher import RiotWatcher, ApiError\n",
    "\n",
    "watcher = RiotWatcher('RGAPI-9845fd5d-4e2e-45a7-b8ac-b9ba18af49b5')\n",
    "\n",
    "my_region = 'na1'\n",
    "\n",
    "me = watcher.summoner.by_name(my_region, 'hermanwifisun')\n",
    "print(me)\n",
    "\n",
    "# all objects are returned (by default) as a dict\n",
    "# lets see if i got diamond yet (i probably didnt)\n",
    "my_ranked_stats = watcher.league.positions_by_summoner(my_region, me['id'])\n",
    "print(my_ranked_stats)\n",
    "\n",
    "static_champ_list = watcher.static_data.champions(my_region)\n",
    "print(static_champ_list)\n",
    "\n",
    "# For Riot's API, the 404 status code indicates that the requested data wasn't found and\n",
    "# should be expected to occur in normal operation, as in the case of a an\n",
    "# invalid summoner name, match ID, etc.\n",
    "#\n",
    "# The 429 status code indicates that the user has sent too many requests\n",
    "# in a given amount of time (\"rate limiting\").\n",
    "\n",
    "try:\n",
    "    response = watcher.summoner.by_name(my_region, 'this_is_probably_not_anyones_summoner_name')\n",
    "except ApiError as err:\n",
    "    if err.response.status_code == 429:\n",
    "        print('We should retry in {} seconds.'.format(err.headers['Retry-After']))\n",
    "        print('this retry-after is handled by default by the RiotWatcher library')\n",
    "        print('future requests wait until the retry-after time passes')\n",
    "    elif err.response.status_code == 404:\n",
    "        print('Summoner with that ridiculous name not found.')\n",
    "    else:\n",
    "        raise"
   ]
  },
  {
   "cell_type": "code",
   "execution_count": 15,
   "metadata": {},
   "outputs": [
    {
     "ename": "AttributeError",
     "evalue": "'RiotWatcher' object has no attribute 'champions'",
     "output_type": "error",
     "traceback": [
      "\u001b[1;31m---------------------------------------------------------------------------\u001b[0m",
      "\u001b[1;31mAttributeError\u001b[0m                            Traceback (most recent call last)",
      "\u001b[1;32m<ipython-input-15-4f5f2ab53501>\u001b[0m in \u001b[0;36m<module>\u001b[1;34m()\u001b[0m\n\u001b[1;32m----> 1\u001b[1;33m \u001b[0mstatic_champ_list\u001b[0m \u001b[1;33m=\u001b[0m \u001b[0mwatcher\u001b[0m\u001b[1;33m.\u001b[0m\u001b[0mchampions\u001b[0m\u001b[1;33m(\u001b[0m\u001b[0mmy_region\u001b[0m\u001b[1;33m)\u001b[0m\u001b[1;33m\u001b[0m\u001b[0m\n\u001b[0m\u001b[0;32m      2\u001b[0m \u001b[0mprint\u001b[0m\u001b[1;33m(\u001b[0m\u001b[0mstatic_champ_list\u001b[0m\u001b[1;33m)\u001b[0m\u001b[1;33m\u001b[0m\u001b[0m\n",
      "\u001b[1;31mAttributeError\u001b[0m: 'RiotWatcher' object has no attribute 'champions'"
     ]
    }
   ],
   "source": [
    "static_champ_list = watcher.champions(my_region)\n",
    "print(static_champ_list)"
   ]
  },
  {
   "cell_type": "code",
   "execution_count": 12,
   "metadata": {},
   "outputs": [
    {
     "ename": "NameError",
     "evalue": "name 'tox' is not defined",
     "output_type": "error",
     "traceback": [
      "\u001b[1;31m---------------------------------------------------------------------------\u001b[0m",
      "\u001b[1;31mNameError\u001b[0m                                 Traceback (most recent call last)",
      "\u001b[1;32m<ipython-input-12-74b5bff53406>\u001b[0m in \u001b[0;36m<module>\u001b[1;34m()\u001b[0m\n\u001b[1;32m----> 1\u001b[1;33m \u001b[0mtox\u001b[0m\u001b[1;33m\u001b[0m\u001b[0m\n\u001b[0m",
      "\u001b[1;31mNameError\u001b[0m: name 'tox' is not defined"
     ]
    }
   ],
   "source": [
    "tox"
   ]
  },
  {
   "cell_type": "code",
   "execution_count": null,
   "metadata": {},
   "outputs": [],
   "source": []
  }
 ],
 "metadata": {
  "kernelspec": {
   "display_name": "Python 3",
   "language": "python",
   "name": "python3"
  },
  "language_info": {
   "codemirror_mode": {
    "name": "ipython",
    "version": 3
   },
   "file_extension": ".py",
   "mimetype": "text/x-python",
   "name": "python",
   "nbconvert_exporter": "python",
   "pygments_lexer": "ipython3",
   "version": "3.7.0"
  }
 },
 "nbformat": 4,
 "nbformat_minor": 2
}
