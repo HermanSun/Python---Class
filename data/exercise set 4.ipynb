{
 "cells": [
  {
   "cell_type": "code",
   "execution_count": 3,
   "metadata": {},
   "outputs": [],
   "source": [
    "import re\n",
    "import string"
   ]
  },
  {
   "cell_type": "code",
   "execution_count": 4,
   "metadata": {},
   "outputs": [
    {
     "name": "stdout",
     "output_type": "stream",
     "text": [
      "[nltk_data] Downloading package stopwords to\n",
      "[nltk_data]     C:\\Users\\herma\\AppData\\Roaming\\nltk_data...\n",
      "[nltk_data]   Package stopwords is already up-to-date!\n"
     ]
    }
   ],
   "source": [
    "import nltk\n",
    "nltk.download('stopwords')\n",
    "from nltk.corpus import stopwords"
   ]
  },
  {
   "cell_type": "code",
   "execution_count": 5,
   "metadata": {},
   "outputs": [
    {
     "data": {
      "text/plain": [
       "'yes ,that is a duplicate catalog category. the catalog number is c1357-a'"
      ]
     },
     "execution_count": 5,
     "metadata": {},
     "output_type": "execute_result"
    }
   ],
   "source": [
    "text = 'Yes ,that is a duplicate catalog category. The catalog number is C1357-A'\n",
    "text = text.lower()\n",
    "text"
   ]
  },
  {
   "cell_type": "code",
   "execution_count": 9,
   "metadata": {},
   "outputs": [
    {
     "data": {
      "text/plain": [
       "'Yes ,that is a dupli#e #alog #egory. The #alog number is C1357-A'"
      ]
     },
     "execution_count": 9,
     "metadata": {},
     "output_type": "execute_result"
    }
   ],
   "source": [
    "text = 'Yes ,that is a duplicate catalog category. The catalog number is C1357-A'\n",
    "regex=re.compile(r'cat') # for cat this word\n",
    "text = regex.sub('#',text)\n",
    "text"
   ]
  },
  {
   "cell_type": "code",
   "execution_count": 10,
   "metadata": {},
   "outputs": [
    {
     "data": {
      "text/plain": [
       "'Yes ,#h## is # dupli###e ####log ###egory. #he ####log number is #1357-#'"
      ]
     },
     "execution_count": 10,
     "metadata": {},
     "output_type": "execute_result"
    }
   ],
   "source": [
    "text = 'Yes ,that is a duplicate catalog category. The catalog number is C1357-A'\n",
    "regex=re.compile(r'[cat]',re.IGNORECASE) # for each char in cat.\n",
    "text = regex.sub('#',text)\n",
    "text"
   ]
  },
  {
   "cell_type": "code",
   "execution_count": 11,
   "metadata": {},
   "outputs": [
    {
     "data": {
      "text/plain": [
       "'Yes ,#h## is # dupli###e ####log ###egory. #he ####log number is #1357-#'"
      ]
     },
     "execution_count": 11,
     "metadata": {},
     "output_type": "execute_result"
    }
   ],
   "source": [
    "text = 'Yes ,that is a duplicate catalog category. The catalog number is C1357-A'\n",
    "regex=re.compile(r'[tact]',re.IGNORECASE) # for each char in cat.\n",
    "text = regex.sub('#',text)\n",
    "text"
   ]
  },
  {
   "cell_type": "code",
   "execution_count": 12,
   "metadata": {},
   "outputs": [
    {
     "data": {
      "text/plain": [
       "'Yes ,#h## is # dupli###e ####log ###egory. #he ####log number is #1357-#'"
      ]
     },
     "execution_count": 12,
     "metadata": {},
     "output_type": "execute_result"
    }
   ],
   "source": [
    "text = 'Yes ,that is a duplicate catalog category. The catalog number is C1357-A'\n",
    "pattern='cat'\n",
    "regex=re.compile(r'[%s]'%pattern,re.IGNORECASE) # for each char in cat.\n",
    "text = regex.sub('#',text)\n",
    "text"
   ]
  },
  {
   "cell_type": "code",
   "execution_count": 15,
   "metadata": {},
   "outputs": [
    {
     "data": {
      "text/plain": [
       "'Yes ,that is a duplicate catalog category. The catalog number is C####-A'"
      ]
     },
     "execution_count": 15,
     "metadata": {},
     "output_type": "execute_result"
    }
   ],
   "source": [
    "text = 'Yes ,that is a duplicate catalog category. The catalog number is C1357-A'\n",
    "pattern='0-9'\n",
    "regex=re.compile(r'[%s]'%pattern) # for each char in cat.\n",
    "text = regex.sub('#',text)\n",
    "text"
   ]
  },
  {
   "cell_type": "code",
   "execution_count": 14,
   "metadata": {},
   "outputs": [
    {
     "data": {
      "text/plain": [
       "'0123456789'"
      ]
     },
     "execution_count": 14,
     "metadata": {},
     "output_type": "execute_result"
    }
   ],
   "source": [
    "string.digits"
   ]
  },
  {
   "cell_type": "code",
   "execution_count": 17,
   "metadata": {},
   "outputs": [
    {
     "data": {
      "text/plain": [
       "'Yes ,that is a duplicate catalog category. The catalog number is C####-A'"
      ]
     },
     "execution_count": 17,
     "metadata": {},
     "output_type": "execute_result"
    }
   ],
   "source": [
    "text = 'Yes ,that is a duplicate catalog category. The catalog number is C1357-A'\n",
    "pattern= string.digits\n",
    "regex=re.compile(r'[%s]'%pattern) # for each char in cat.\n",
    "text = regex.sub('#',text)\n",
    "text"
   ]
  },
  {
   "cell_type": "code",
   "execution_count": 5,
   "metadata": {},
   "outputs": [
    {
     "data": {
      "text/plain": [
       "'Yes ,that is a duplicate catalog category. The catalog number is C####-A'"
      ]
     },
     "execution_count": 5,
     "metadata": {},
     "output_type": "execute_result"
    }
   ],
   "source": [
    "text = 'Yes ,that is a duplicate catalog category. The catalog number is C1357-A'\n",
    "pattern= string.digits\n",
    "regex=re.compile(r'[%s]'%string.digits) # for each char in cat.\n",
    "text = regex.sub('#',text)\n",
    "text"
   ]
  },
  {
   "cell_type": "code",
   "execution_count": 18,
   "metadata": {},
   "outputs": [
    {
     "data": {
      "text/plain": [
       "'!\"#$%&\\'()*+,-./:;<=>?@[\\\\]^_`{|}~'"
      ]
     },
     "execution_count": 18,
     "metadata": {},
     "output_type": "execute_result"
    }
   ],
   "source": [
    "string.punctuation\n"
   ]
  },
  {
   "cell_type": "code",
   "execution_count": 19,
   "metadata": {},
   "outputs": [
    {
     "data": {
      "text/plain": [
       "'Yes #that is a duplicate catalog category# The catalog number is C1357#A'"
      ]
     },
     "execution_count": 19,
     "metadata": {},
     "output_type": "execute_result"
    }
   ],
   "source": [
    "text = 'Yes ,that is a duplicate catalog category. The catalog number is C1357-A'\n",
    "pattern= string.punctuation\n",
    "regex=re.compile(r'[%s]'%pattern) # for each char in cat.\n",
    "text = regex.sub('#',text)\n",
    "text"
   ]
  },
  {
   "cell_type": "code",
   "execution_count": 22,
   "metadata": {},
   "outputs": [
    {
     "data": {
      "text/plain": [
       "'Yes #that is a duplicate catalog category# The catalog number is C#####A'"
      ]
     },
     "execution_count": 22,
     "metadata": {},
     "output_type": "execute_result"
    }
   ],
   "source": [
    "text = 'Yes ,that is a duplicate catalog category. The catalog number is C1357-A'\n",
    "pattern1= string.digits\n",
    "pattern2= string.punctuation\n",
    "regex=re.compile(r'[%s%s]'%(pattern1, pattern2)) # for each char in cat.\n",
    "text = regex.sub('#',text)\n",
    "text"
   ]
  },
  {
   "cell_type": "code",
   "execution_count": 24,
   "metadata": {},
   "outputs": [
    {
     "data": {
      "text/plain": [
       "'Yes that is a duplicate catalog category The catalog number is CA'"
      ]
     },
     "execution_count": 24,
     "metadata": {},
     "output_type": "execute_result"
    }
   ],
   "source": [
    "text = 'Yes ,that is a duplicate catalog category. The catalog number is C1357-A'\n",
    "pattern1= string.digits\n",
    "pattern2= string.punctuation\n",
    "regex=re.compile(r'[%s%s]'%(pattern1, pattern2)) # for each char in cat.\n",
    "text = regex.sub('',text)\n",
    "text"
   ]
  },
  {
   "cell_type": "code",
   "execution_count": 34,
   "metadata": {},
   "outputs": [
    {
     "name": "stdout",
     "output_type": "stream",
     "text": [
      "Yes ,that is a duplicate \t catalog category. The catalog    number is C1357-A.\n",
      " ddd\n",
      "Yes ,that is a duplicate catalog category. The catalog number is C1357-A. ddd\n"
     ]
    }
   ],
   "source": [
    "text = 'Yes ,that is a duplicate \\t catalog category. The catalog    number is C1357-A.\\n ddd'\n",
    "print(text)\n",
    "pattern= '\\s+'\n",
    "regex=re.compile(r'%s'%pattern) # for each char in cat.\n",
    "text = regex.sub(' ',text)\n",
    "print(text)"
   ]
  },
  {
   "cell_type": "code",
   "execution_count": 6,
   "metadata": {},
   "outputs": [
    {
     "name": "stdout",
     "output_type": "stream",
     "text": [
      "['Yes,', 'that', 'is', 'a', 'duplicate', 'catalog', 'category.', 'The', 'catalog', 'number', 'is', 'C1357-A.']\n"
     ]
    },
    {
     "data": {
      "text/plain": [
       "'Yes, duplicate catalog category. catalog number C1357-A.'"
      ]
     },
     "execution_count": 6,
     "metadata": {},
     "output_type": "execute_result"
    }
   ],
   "source": [
    "sen = 'Yes, that is a duplicate catalog category. The catalog number is C1357-A.'\n",
    "sw = ['the','is','a','that','in']\n",
    "senlst=sen.split()\n",
    "print(senlst)\n",
    "senclean = ' '.join([w for w in senlst if w.lower() not in sw])\n",
    "senclean"
   ]
  },
  {
   "cell_type": "code",
   "execution_count": 54,
   "metadata": {},
   "outputs": [
    {
     "data": {
      "text/plain": [
       "\"Python is an interpreted, high-level, general-purpose programming \\nlanguage. Created by Guido van Rossum and first released in 1991, Python has a \\ndesign philosophy that emphasizes code readability, notably using significant \\nwhitespace. It provides constructs that enable clear programming on both small \\nand large scales.[26] Van Rossum led the language community until stepping \\ndown as leader in July 2018.[27][28] Python features a dynamic type system \\nand automatic memory management. It supports multiple programming paradigms, \\nincluding object-oriented, imperative, functional and procedural, and has a \\nlarge and comprehensive standard library.[29] Python interpreters are \\navailable for many operating systems. CPython, the reference implementation of \\nPython, is open source software[30] and has a community-based development \\nmodel, as do nearly all of Python's other implementations. Python and CPython \\nare managed by the non-profit Python Software Foundation.\""
      ]
     },
     "execution_count": 54,
     "metadata": {},
     "output_type": "execute_result"
    }
   ],
   "source": [
    "text = \"\"\"Python is an interpreted, high-level, general-purpose programming \n",
    "language. Created by Guido van Rossum and first released in 1991, Python has a \n",
    "design philosophy that emphasizes code readability, notably using significant \n",
    "whitespace. It provides constructs that enable clear programming on both small \n",
    "and large scales.[26] Van Rossum led the language community until stepping \n",
    "down as leader in July 2018.[27][28] Python features a dynamic type system \n",
    "and automatic memory management. It supports multiple programming paradigms, \n",
    "including object-oriented, imperative, functional and procedural, and has a \n",
    "large and comprehensive standard library.[29] Python interpreters are \n",
    "available for many operating systems. CPython, the reference implementation of \n",
    "Python, is open source software[30] and has a community-based development \n",
    "model, as do nearly all of Python's other implementations. Python and CPython \n",
    "are managed by the non-profit Python Software Foundation.\"\"\"\n",
    "text"
   ]
  },
  {
   "cell_type": "code",
   "execution_count": 58,
   "metadata": {},
   "outputs": [
    {
     "data": {
      "text/plain": [
       "['i', 'me', 'my', 'myself', 'we']"
      ]
     },
     "execution_count": 58,
     "metadata": {},
     "output_type": "execute_result"
    }
   ],
   "source": [
    "sw=stopwords.words('english')\n",
    "sw[:5]"
   ]
  },
  {
   "cell_type": "code",
   "execution_count": 73,
   "metadata": {},
   "outputs": [
    {
     "data": {
      "text/plain": [
       "'python interpreted highlevel generalpurpose programming language created guido van rossum first released python design philosophy emphasizes code readability notably using significant whitespace provides constructs enable clear programming small large scales van rossum led language community stepping leader july python features dynamic type system automatic memory management supports multiple programming paradigms including objectoriented imperative functional procedural large comprehensive standard library python interpreters available many operating systems cpython reference implementation python open source software communitybased development model nearly pythons implementations python cpython managed nonprofit python software foundation'"
      ]
     },
     "execution_count": 73,
     "metadata": {},
     "output_type": "execute_result"
    }
   ],
   "source": [
    "text = \"\"\"Python is an interpreted, high-level, general-purpose programming \n",
    "language. Created by Guido van Rossum and first released in 1991, Python has a \n",
    "design philosophy that emphasizes code readability, notably using significant \n",
    "whitespace. It provides constructs that enable clear programming on both small \n",
    "and large scales.[26] Van Rossum led the language community until stepping \n",
    "down as leader in July 2018.[27][28] Python features a dynamic type system \n",
    "and automatic memory management. It supports multiple programming paradigms, \n",
    "including object-oriented, imperative, functional and procedural, and has a \n",
    "large and comprehensive standard library.[29] Python interpreters are \n",
    "available for many operating systems. CPython, the reference implementation of \n",
    "Python, is open source software[30] and has a community-based development \n",
    "model, as do nearly all of Python's other implementations. Python and CPython \n",
    "are managed by the non-profit Python Software Foundation.\"\"\"\n",
    "pattern1= string.digits\n",
    "pattern2= string.punctuation\n",
    "\n",
    "regex=re.compile(r'[%s%s]*'%(pattern1, pattern2)) # for each char in cat.\n",
    "text = regex.sub('',text)\n",
    "regex2=re.compile(r'\\s+')\n",
    "text=regex2.sub(' ',text)\n",
    "text=text.lower()\n",
    "textlst=text.split()\n",
    "text=' '.join([w for w in textlst if w not in sw])\n",
    "text"
   ]
  },
  {
   "cell_type": "code",
   "execution_count": 8,
   "metadata": {},
   "outputs": [
    {
     "data": {
      "text/plain": [
       "'python interpreted highlevel generalpurpose programming language created guido van rossum first released python design philosophy emphasizes code readability notably using significant whitespace provides constructs enable clear programming small large scales van rossum led language community stepping leader july python features dynamic type system automatic memory management supports multiple programming paradigms including objectoriented imperative functional procedural large comprehensive standard library python interpreters available many operating systems cpython reference implementation python open source software communitybased development model nearly pythons implementations python cpython managed nonprofit python software foundation'"
      ]
     },
     "execution_count": 8,
     "metadata": {},
     "output_type": "execute_result"
    }
   ],
   "source": [
    "def preprocess(text):\n",
    "    sw=stopwords.words('english')\n",
    "    pattern1= string.digits\n",
    "    pattern2= string.punctuation\n",
    "    regex=re.compile(r'[%s%s]*'%(pattern1, pattern2)) # for each char in cat.\n",
    "    text = regex.sub('',text)\n",
    "    regex2=re.compile(r'\\s+')\n",
    "    text=regex2.sub(' ',text)\n",
    "    text=text.lower()\n",
    "    textlst=text.split()\n",
    "    text=' '.join([w for w in textlst if w not in sw])\n",
    "    return text\n",
    "text = \"\"\"Python is an interpreted, high-level, general-purpose programming \n",
    "language. Created by Guido van Rossum and first released in 1991, Python has a \n",
    "design philosophy that emphasizes code readability, notably using significant \n",
    "whitespace. It provides constructs that enable clear programming on both small \n",
    "and large scales.[26] Van Rossum led the language community until stepping \n",
    "down as leader in July 2018.[27][28] Python features a dynamic type system \n",
    "and automatic memory management. It supports multiple programming paradigms, \n",
    "including object-oriented, imperative, functional and procedural, and has a \n",
    "large and comprehensive standard library.[29] Python interpreters are \n",
    "available for many operating systems. CPython, the reference implementation of \n",
    "Python, is open source software[30] and has a community-based development \n",
    "model, as do nearly all of Python's other implementations. Python and CPython \n",
    "are managed by the non-profit Python Software Foundation.\"\"\"\n",
    "preprocess(text)"
   ]
  },
  {
   "cell_type": "code",
   "execution_count": 9,
   "metadata": {},
   "outputs": [
    {
     "data": {
      "text/plain": [
       "['This is a brown house. This house is big.',\n",
       " 'This is a small house. This house has 1 bedroom.',\n",
       " 'This dog is brown. This dog likes to play',\n",
       " 'The dog is in the bedroom.']"
      ]
     },
     "execution_count": 9,
     "metadata": {},
     "output_type": "execute_result"
    }
   ],
   "source": [
    "# create a corpus of documents\n",
    "corpus = [\"This is a brown house. This house is big.\",\n",
    "          \"This is a small house. This house has 1 bedroom.\",\n",
    "          \"This dog is brown. This dog likes to play\",\n",
    "          \"The dog is in the bedroom.\"]\n",
    "corpus"
   ]
  },
  {
   "cell_type": "code",
   "execution_count": 10,
   "metadata": {},
   "outputs": [
    {
     "data": {
      "text/plain": [
       "['brown house house big',\n",
       " 'small house house bedroom',\n",
       " 'dog brown dog likes play',\n",
       " 'dog bedroom']"
      ]
     },
     "execution_count": 10,
     "metadata": {},
     "output_type": "execute_result"
    }
   ],
   "source": [
    "new=[preprocess(w) for w in corpus]\n",
    "new"
   ]
  },
  {
   "cell_type": "code",
   "execution_count": 11,
   "metadata": {},
   "outputs": [
    {
     "data": {
      "text/plain": [
       "['brown house house big',\n",
       " 'small house house bedroom',\n",
       " 'dog brown dog likes play',\n",
       " 'dog bedroom']"
      ]
     },
     "execution_count": 11,
     "metadata": {},
     "output_type": "execute_result"
    }
   ],
   "source": [
    "new1= list(map(preprocess, corpus))\n",
    "new1"
   ]
  },
  {
   "cell_type": "code",
   "execution_count": 12,
   "metadata": {},
   "outputs": [
    {
     "data": {
      "text/plain": [
       "[['brown', 'house', 'house', 'big'],\n",
       " ['small', 'house', 'house', 'bedroom'],\n",
       " ['dog', 'brown', 'dog', 'likes', 'play'],\n",
       " ['dog', 'bedroom']]"
      ]
     },
     "execution_count": 12,
     "metadata": {},
     "output_type": "execute_result"
    }
   ],
   "source": [
    "lst=[k.split() for k in new1]\n",
    "lst"
   ]
  },
  {
   "cell_type": "code",
   "execution_count": 13,
   "metadata": {},
   "outputs": [
    {
     "data": {
      "text/plain": [
       "[0    brown\n",
       " 1    house\n",
       " 2    house\n",
       " 3      big\n",
       " dtype: object, 0      small\n",
       " 1      house\n",
       " 2      house\n",
       " 3    bedroom\n",
       " dtype: object, 0      dog\n",
       " 1    brown\n",
       " 2      dog\n",
       " 3    likes\n",
       " 4     play\n",
       " dtype: object, 0        dog\n",
       " 1    bedroom\n",
       " dtype: object]"
      ]
     },
     "execution_count": 13,
     "metadata": {},
     "output_type": "execute_result"
    }
   ],
   "source": [
    "import pandas as pd\n",
    "lst3=[pd.Series(x) for x in lst]\n",
    "lst3"
   ]
  },
  {
   "cell_type": "code",
   "execution_count": 15,
   "metadata": {},
   "outputs": [
    {
     "data": {
      "text/plain": [
       "[house    2\n",
       " brown    1\n",
       " big      1\n",
       " dtype: int64, house      2\n",
       " bedroom    1\n",
       " small      1\n",
       " dtype: int64, dog      2\n",
       " likes    1\n",
       " brown    1\n",
       " play     1\n",
       " dtype: int64, dog        1\n",
       " bedroom    1\n",
       " dtype: int64]"
      ]
     },
     "execution_count": 15,
     "metadata": {},
     "output_type": "execute_result"
    }
   ],
   "source": [
    "lst4=[pd.value_counts(x) for x in lst3]\n",
    "lst4"
   ]
  },
  {
   "cell_type": "code",
   "execution_count": 16,
   "metadata": {},
   "outputs": [
    {
     "data": {
      "text/html": [
       "<div>\n",
       "<style scoped>\n",
       "    .dataframe tbody tr th:only-of-type {\n",
       "        vertical-align: middle;\n",
       "    }\n",
       "\n",
       "    .dataframe tbody tr th {\n",
       "        vertical-align: top;\n",
       "    }\n",
       "\n",
       "    .dataframe thead th {\n",
       "        text-align: right;\n",
       "    }\n",
       "</style>\n",
       "<table border=\"1\" class=\"dataframe\">\n",
       "  <thead>\n",
       "    <tr style=\"text-align: right;\">\n",
       "      <th></th>\n",
       "      <th>house</th>\n",
       "      <th>brown</th>\n",
       "      <th>big</th>\n",
       "      <th>bedroom</th>\n",
       "      <th>small</th>\n",
       "      <th>dog</th>\n",
       "      <th>likes</th>\n",
       "      <th>play</th>\n",
       "    </tr>\n",
       "  </thead>\n",
       "  <tbody>\n",
       "    <tr>\n",
       "      <th>0</th>\n",
       "      <td>2.0</td>\n",
       "      <td>1.0</td>\n",
       "      <td>1.0</td>\n",
       "      <td>NaN</td>\n",
       "      <td>NaN</td>\n",
       "      <td>NaN</td>\n",
       "      <td>NaN</td>\n",
       "      <td>NaN</td>\n",
       "    </tr>\n",
       "    <tr>\n",
       "      <th>1</th>\n",
       "      <td>2.0</td>\n",
       "      <td>NaN</td>\n",
       "      <td>NaN</td>\n",
       "      <td>1.0</td>\n",
       "      <td>1.0</td>\n",
       "      <td>NaN</td>\n",
       "      <td>NaN</td>\n",
       "      <td>NaN</td>\n",
       "    </tr>\n",
       "    <tr>\n",
       "      <th>2</th>\n",
       "      <td>NaN</td>\n",
       "      <td>1.0</td>\n",
       "      <td>NaN</td>\n",
       "      <td>NaN</td>\n",
       "      <td>NaN</td>\n",
       "      <td>2.0</td>\n",
       "      <td>1.0</td>\n",
       "      <td>1.0</td>\n",
       "    </tr>\n",
       "    <tr>\n",
       "      <th>3</th>\n",
       "      <td>NaN</td>\n",
       "      <td>NaN</td>\n",
       "      <td>NaN</td>\n",
       "      <td>1.0</td>\n",
       "      <td>NaN</td>\n",
       "      <td>1.0</td>\n",
       "      <td>NaN</td>\n",
       "      <td>NaN</td>\n",
       "    </tr>\n",
       "  </tbody>\n",
       "</table>\n",
       "</div>"
      ],
      "text/plain": [
       "   house  brown  big  bedroom  small  dog  likes  play\n",
       "0    2.0    1.0  1.0      NaN    NaN  NaN    NaN   NaN\n",
       "1    2.0    NaN  NaN      1.0    1.0  NaN    NaN   NaN\n",
       "2    NaN    1.0  NaN      NaN    NaN  2.0    1.0   1.0\n",
       "3    NaN    NaN  NaN      1.0    NaN  1.0    NaN   NaN"
      ]
     },
     "execution_count": 16,
     "metadata": {},
     "output_type": "execute_result"
    }
   ],
   "source": [
    "df1=pd.DataFrame(lst4)\n",
    "df1"
   ]
  },
  {
   "cell_type": "code",
   "execution_count": 18,
   "metadata": {},
   "outputs": [
    {
     "data": {
      "text/html": [
       "<div>\n",
       "<style scoped>\n",
       "    .dataframe tbody tr th:only-of-type {\n",
       "        vertical-align: middle;\n",
       "    }\n",
       "\n",
       "    .dataframe tbody tr th {\n",
       "        vertical-align: top;\n",
       "    }\n",
       "\n",
       "    .dataframe thead th {\n",
       "        text-align: right;\n",
       "    }\n",
       "</style>\n",
       "<table border=\"1\" class=\"dataframe\">\n",
       "  <thead>\n",
       "    <tr style=\"text-align: right;\">\n",
       "      <th></th>\n",
       "      <th>house</th>\n",
       "      <th>brown</th>\n",
       "      <th>big</th>\n",
       "      <th>bedroom</th>\n",
       "      <th>small</th>\n",
       "      <th>dog</th>\n",
       "      <th>likes</th>\n",
       "      <th>play</th>\n",
       "    </tr>\n",
       "  </thead>\n",
       "  <tbody>\n",
       "    <tr>\n",
       "      <th>0</th>\n",
       "      <td>2.0</td>\n",
       "      <td>1.0</td>\n",
       "      <td>1.0</td>\n",
       "      <td>0.0</td>\n",
       "      <td>0.0</td>\n",
       "      <td>0.0</td>\n",
       "      <td>0.0</td>\n",
       "      <td>0.0</td>\n",
       "    </tr>\n",
       "    <tr>\n",
       "      <th>1</th>\n",
       "      <td>2.0</td>\n",
       "      <td>0.0</td>\n",
       "      <td>0.0</td>\n",
       "      <td>1.0</td>\n",
       "      <td>1.0</td>\n",
       "      <td>0.0</td>\n",
       "      <td>0.0</td>\n",
       "      <td>0.0</td>\n",
       "    </tr>\n",
       "    <tr>\n",
       "      <th>2</th>\n",
       "      <td>0.0</td>\n",
       "      <td>1.0</td>\n",
       "      <td>0.0</td>\n",
       "      <td>0.0</td>\n",
       "      <td>0.0</td>\n",
       "      <td>2.0</td>\n",
       "      <td>1.0</td>\n",
       "      <td>1.0</td>\n",
       "    </tr>\n",
       "    <tr>\n",
       "      <th>3</th>\n",
       "      <td>0.0</td>\n",
       "      <td>0.0</td>\n",
       "      <td>0.0</td>\n",
       "      <td>1.0</td>\n",
       "      <td>0.0</td>\n",
       "      <td>1.0</td>\n",
       "      <td>0.0</td>\n",
       "      <td>0.0</td>\n",
       "    </tr>\n",
       "  </tbody>\n",
       "</table>\n",
       "</div>"
      ],
      "text/plain": [
       "   house  brown  big  bedroom  small  dog  likes  play\n",
       "0    2.0    1.0  1.0      0.0    0.0  0.0    0.0   0.0\n",
       "1    2.0    0.0  0.0      1.0    1.0  0.0    0.0   0.0\n",
       "2    0.0    1.0  0.0      0.0    0.0  2.0    1.0   1.0\n",
       "3    0.0    0.0  0.0      1.0    0.0  1.0    0.0   0.0"
      ]
     },
     "execution_count": 18,
     "metadata": {},
     "output_type": "execute_result"
    }
   ],
   "source": [
    "df1.fillna(value=0, inplace= True)\n",
    "df1"
   ]
  }
 ],
 "metadata": {
  "kernelspec": {
   "display_name": "Python 3",
   "language": "python",
   "name": "python3"
  },
  "language_info": {
   "codemirror_mode": {
    "name": "ipython",
    "version": 3
   },
   "file_extension": ".py",
   "mimetype": "text/x-python",
   "name": "python",
   "nbconvert_exporter": "python",
   "pygments_lexer": "ipython3",
   "version": "3.7.0"
  }
 },
 "nbformat": 4,
 "nbformat_minor": 2
}
