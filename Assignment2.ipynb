{
 "cells": [
  {
   "cell_type": "markdown",
   "metadata": {},
   "source": [
    "### 1) Import numpy as np, and pandas as pd"
   ]
  },
  {
   "cell_type": "code",
   "execution_count": 1,
   "metadata": {},
   "outputs": [],
   "source": [
    "# your code here\n",
    "import numpy as np\n",
    "import pandas as pd"
   ]
  },
  {
   "cell_type": "code",
   "execution_count": 7,
   "metadata": {},
   "outputs": [],
   "source": [
    "# leave this cell blank"
   ]
  },
  {
   "cell_type": "markdown",
   "metadata": {},
   "source": [
    "### 2) Execute the next cell as-is to create a numpy array arr"
   ]
  },
  {
   "cell_type": "code",
   "execution_count": 2,
   "metadata": {},
   "outputs": [
    {
     "data": {
      "text/plain": [
       "array([[ -91,   25,  -85,  -36,   13,   23,   56,   57,   13,  -92,  -27,\n",
       "        -100,  -60,   64,   15,  -84,    0,   39,  -46,  -12,    7,   22,\n",
       "         -38,  -67,    0,   77,   79,  -46,  -23,   97,  -87,   53,   26,\n",
       "          41,   -8]])"
      ]
     },
     "execution_count": 2,
     "metadata": {},
     "output_type": "execute_result"
    }
   ],
   "source": [
    "np.random.seed(10)\n",
    "arr = np.random.randint(-100, 100, (1, 35))\n",
    "arr"
   ]
  },
  {
   "cell_type": "code",
   "execution_count": 3,
   "metadata": {},
   "outputs": [],
   "source": [
    "# leave this cell blank"
   ]
  },
  {
   "cell_type": "markdown",
   "metadata": {},
   "source": [
    "### 3) Re-shape arr to have 5 rows and 7 columns; then print arr \n",
    "##### [note: after this manipulation arr should have 5 rows and 7 columns]"
   ]
  },
  {
   "cell_type": "code",
   "execution_count": 4,
   "metadata": {},
   "outputs": [
    {
     "data": {
      "text/plain": [
       "array([[ -91,   25,  -85,  -36,   13,   23,   56],\n",
       "       [  57,   13,  -92,  -27, -100,  -60,   64],\n",
       "       [  15,  -84,    0,   39,  -46,  -12,    7],\n",
       "       [  22,  -38,  -67,    0,   77,   79,  -46],\n",
       "       [ -23,   97,  -87,   53,   26,   41,   -8]])"
      ]
     },
     "execution_count": 4,
     "metadata": {},
     "output_type": "execute_result"
    }
   ],
   "source": [
    "# your code here\n",
    "arr=arr.reshape(5,7)\n",
    "arr"
   ]
  },
  {
   "cell_type": "code",
   "execution_count": 5,
   "metadata": {},
   "outputs": [],
   "source": [
    "# leave this cell blank"
   ]
  },
  {
   "cell_type": "markdown",
   "metadata": {},
   "source": [
    "### 4) Get column-wise means and put them in an array called cmean; then print cmean \n",
    "##### [note: pay attention to the axis!]"
   ]
  },
  {
   "cell_type": "code",
   "execution_count": 6,
   "metadata": {},
   "outputs": [
    {
     "name": "stdout",
     "output_type": "stream",
     "text": [
      "[ -4.    2.6 -66.2   5.8  -6.   14.2  14.6]\n"
     ]
    }
   ],
   "source": [
    "# your code here\n",
    "cmean=np.mean(arr,axis=0)\n",
    "print(cmean)"
   ]
  },
  {
   "cell_type": "code",
   "execution_count": 7,
   "metadata": {},
   "outputs": [],
   "source": [
    "# leave this cell blank"
   ]
  },
  {
   "cell_type": "markdown",
   "metadata": {},
   "source": [
    "### 5) Get column-wise standard deviations and put them in an array called csd; then print csd \n",
    "##### [note: pay attention to the axis!]"
   ]
  },
  {
   "cell_type": "code",
   "execution_count": 8,
   "metadata": {},
   "outputs": [
    {
     "name": "stdout",
     "output_type": "stream",
     "text": [
      "[50.37459677 61.10515527 34.16079624 35.17612827 61.17188897 47.30073995\n",
      " 40.97609059]\n"
     ]
    }
   ],
   "source": [
    "# your code here\n",
    "csd=np.std(arr,axis=0)\n",
    "print(csd)"
   ]
  },
  {
   "cell_type": "code",
   "execution_count": 9,
   "metadata": {},
   "outputs": [],
   "source": [
    "# leave this cell blank"
   ]
  },
  {
   "cell_type": "markdown",
   "metadata": {},
   "source": [
    "### 6) Use arr, cmean, and csd to normalize the data using matrix manipulation and broadcasting; call the resulting array arrnorm; then print arrnorm"
   ]
  },
  {
   "cell_type": "code",
   "execution_count": 10,
   "metadata": {},
   "outputs": [
    {
     "name": "stdout",
     "output_type": "stream",
     "text": [
      "[[-1.72706097  0.36658118 -0.55033846 -1.18830588  0.31060018  0.1860436\n",
      "   1.01034529]\n",
      " [ 1.21092781  0.17019841 -0.75525172 -0.93245055 -1.53665354 -1.56868582\n",
      "   1.20558109]\n",
      " [ 0.37717423 -1.41722903  1.93789394  0.94382189 -0.65389513 -0.55390254\n",
      "  -0.18547401]\n",
      " [ 0.51613316 -0.66442839 -0.02341866 -0.16488455  1.35683238  1.36995743\n",
      "  -1.47891122]\n",
      " [-0.37717423  1.54487784 -0.6088851   1.34181908  0.5231161   0.56658733\n",
      "  -0.55154115]]\n"
     ]
    }
   ],
   "source": [
    "# your code here\n",
    "arrnorm=(arr-cmean)/csd\n",
    "print(arrnorm)\n"
   ]
  },
  {
   "cell_type": "code",
   "execution_count": null,
   "metadata": {},
   "outputs": [],
   "source": [
    "# leave this cell blank"
   ]
  },
  {
   "cell_type": "markdown",
   "metadata": {},
   "source": [
    "### 7) Print column-wise means of arrnorm \n",
    "##### [note: these should all be ~0]"
   ]
  },
  {
   "cell_type": "code",
   "execution_count": 30,
   "metadata": {},
   "outputs": [
    {
     "name": "stdout",
     "output_type": "stream",
     "text": [
      "[ 2.22044605e-17  4.44089210e-17  6.66133815e-17  8.88178420e-17\n",
      "  2.22044605e-17 -2.22044605e-17  2.22044605e-17]\n"
     ]
    }
   ],
   "source": [
    "# your code here\n",
    "mearrnorm=np.mean(arrnorm,axis=0)\n",
    "print(mearrnorm)"
   ]
  },
  {
   "cell_type": "code",
   "execution_count": null,
   "metadata": {},
   "outputs": [],
   "source": [
    "# leave this cell blank"
   ]
  },
  {
   "cell_type": "markdown",
   "metadata": {},
   "source": [
    "### 8) Print column-wise standard deviations of arrnorm \n",
    "##### [note: these will all be ~1]"
   ]
  },
  {
   "cell_type": "code",
   "execution_count": 31,
   "metadata": {},
   "outputs": [
    {
     "name": "stdout",
     "output_type": "stream",
     "text": [
      "[1. 1. 1. 1. 1. 1. 1.]\n"
     ]
    }
   ],
   "source": [
    "# your code here\n",
    "stdarrnorm=np.std(arrnorm,axis=0)\n",
    "print(stdarrnorm)"
   ]
  },
  {
   "cell_type": "code",
   "execution_count": null,
   "metadata": {},
   "outputs": [],
   "source": [
    "# leave this cell blank"
   ]
  },
  {
   "cell_type": "markdown",
   "metadata": {},
   "source": [
    "### 9) Convert arrnorm into a pandas dataframe called df with rows ['s1', 's2', 's3', 's4', 's5'] and columns ['f1', 'f2', 'f3', 'f4', 'f5', 'f6', 'f7']; then print df"
   ]
  },
  {
   "cell_type": "code",
   "execution_count": 12,
   "metadata": {},
   "outputs": [
    {
     "name": "stdout",
     "output_type": "stream",
     "text": [
      "          f1        f2        f3        f4        f5        f6        f7\n",
      "s1 -1.727061  0.366581 -0.550338 -1.188306  0.310600  0.186044  1.010345\n",
      "s2  1.210928  0.170198 -0.755252 -0.932451 -1.536654 -1.568686  1.205581\n",
      "s3  0.377174 -1.417229  1.937894  0.943822 -0.653895 -0.553903 -0.185474\n",
      "s4  0.516133 -0.664428 -0.023419 -0.164885  1.356832  1.369957 -1.478911\n",
      "s5 -0.377174  1.544878 -0.608885  1.341819  0.523116  0.566587 -0.551541\n"
     ]
    }
   ],
   "source": [
    "# your code here\n",
    "df = pd.DataFrame(arrnorm, index=['s1', 's2', 's3', 's4', 's5'] , columns=['f1', 'f2', 'f3', 'f4', 'f5', 'f6', 'f7'])\n",
    "print(df)"
   ]
  },
  {
   "cell_type": "code",
   "execution_count": 13,
   "metadata": {},
   "outputs": [],
   "source": [
    "# leave this cell blank"
   ]
  },
  {
   "cell_type": "markdown",
   "metadata": {},
   "source": [
    "### 10) Create a new column in df called 'f8' as the sum of column 'f1' and column 'f3'; then print df\n",
    "##### [note: afer this manipulation df should contain a new column called f8]"
   ]
  },
  {
   "cell_type": "code",
   "execution_count": 14,
   "metadata": {},
   "outputs": [
    {
     "name": "stdout",
     "output_type": "stream",
     "text": [
      "          f1        f2        f3        f4        f5        f6        f7  \\\n",
      "s1 -1.727061  0.366581 -0.550338 -1.188306  0.310600  0.186044  1.010345   \n",
      "s2  1.210928  0.170198 -0.755252 -0.932451 -1.536654 -1.568686  1.205581   \n",
      "s3  0.377174 -1.417229  1.937894  0.943822 -0.653895 -0.553903 -0.185474   \n",
      "s4  0.516133 -0.664428 -0.023419 -0.164885  1.356832  1.369957 -1.478911   \n",
      "s5 -0.377174  1.544878 -0.608885  1.341819  0.523116  0.566587 -0.551541   \n",
      "\n",
      "          f8  \n",
      "s1 -2.277399  \n",
      "s2  0.455676  \n",
      "s3  2.315068  \n",
      "s4  0.492715  \n",
      "s5 -0.986059  \n"
     ]
    }
   ],
   "source": [
    "# your code here\n",
    "df['f8'] = df['f1'] + df['f3']\n",
    "\n",
    "print(df)"
   ]
  },
  {
   "cell_type": "code",
   "execution_count": null,
   "metadata": {},
   "outputs": [],
   "source": [
    "# leave this cell blank"
   ]
  },
  {
   "cell_type": "markdown",
   "metadata": {},
   "source": [
    "### 11) Create a new column in df called 'f9' as the exponent of column 'f1'; then print df\n",
    "##### [note: afer this manipulation df should contain a new column called f9]"
   ]
  },
  {
   "cell_type": "code",
   "execution_count": 37,
   "metadata": {},
   "outputs": [
    {
     "name": "stdout",
     "output_type": "stream",
     "text": [
      "          f1        f2        f3        f4        f5        f6        f7  \\\n",
      "s1 -1.727061  0.366581 -0.550338 -1.188306  0.310600  0.186044  1.010345   \n",
      "s2  1.210928  0.170198 -0.755252 -0.932451 -1.536654 -1.568686  1.205581   \n",
      "s3  0.377174 -1.417229  1.937894  0.943822 -0.653895 -0.553903 -0.185474   \n",
      "s4  0.516133 -0.664428 -0.023419 -0.164885  1.356832  1.369957 -1.478911   \n",
      "s5 -0.377174  1.544878 -0.608885  1.341819  0.523116  0.566587 -0.551541   \n",
      "\n",
      "          f8        f9  \n",
      "s1 -2.277399  0.177806  \n",
      "s2  0.455676  3.356597  \n",
      "s3  2.315068  1.458158  \n",
      "s4  0.492715  1.675536  \n",
      "s5 -0.986059  0.685797  \n"
     ]
    }
   ],
   "source": [
    "# your code here\n",
    "df['f9']=np.exp(df['f1'])\n",
    "print(df)"
   ]
  },
  {
   "cell_type": "code",
   "execution_count": null,
   "metadata": {},
   "outputs": [],
   "source": [
    "# leave this cell blank"
   ]
  },
  {
   "cell_type": "markdown",
   "metadata": {},
   "source": [
    "### 12) Drop columns f1 and f3 in df; then print df \n",
    "##### [note: after this manipulation, df should no longer contain columns f1 and f3]"
   ]
  },
  {
   "cell_type": "code",
   "execution_count": 38,
   "metadata": {},
   "outputs": [
    {
     "name": "stdout",
     "output_type": "stream",
     "text": [
      "          f2        f4        f5        f6        f7        f8        f9\n",
      "s1  0.366581 -1.188306  0.310600  0.186044  1.010345 -2.277399  0.177806\n",
      "s2  0.170198 -0.932451 -1.536654 -1.568686  1.205581  0.455676  3.356597\n",
      "s3 -1.417229  0.943822 -0.653895 -0.553903 -0.185474  2.315068  1.458158\n",
      "s4 -0.664428 -0.164885  1.356832  1.369957 -1.478911  0.492715  1.675536\n",
      "s5  1.544878  1.341819  0.523116  0.566587 -0.551541 -0.986059  0.685797\n"
     ]
    }
   ],
   "source": [
    "# dropping columns\n",
    "df.drop(['f1','f3'],axis=1,inplace=True)\n",
    "print(df)# your code here\n"
   ]
  },
  {
   "cell_type": "code",
   "execution_count": null,
   "metadata": {},
   "outputs": [],
   "source": [
    "# leave this cell blank"
   ]
  },
  {
   "cell_type": "markdown",
   "metadata": {},
   "source": [
    "### 13) Execute the next cell as-is to create a new dataframe called dff"
   ]
  },
  {
   "cell_type": "code",
   "execution_count": 39,
   "metadata": {},
   "outputs": [
    {
     "data": {
      "text/html": [
       "<div>\n",
       "<style scoped>\n",
       "    .dataframe tbody tr th:only-of-type {\n",
       "        vertical-align: middle;\n",
       "    }\n",
       "\n",
       "    .dataframe tbody tr th {\n",
       "        vertical-align: top;\n",
       "    }\n",
       "\n",
       "    .dataframe thead th {\n",
       "        text-align: right;\n",
       "    }\n",
       "</style>\n",
       "<table border=\"1\" class=\"dataframe\">\n",
       "  <thead>\n",
       "    <tr style=\"text-align: right;\">\n",
       "      <th></th>\n",
       "      <th>f2</th>\n",
       "      <th>f4</th>\n",
       "      <th>f5</th>\n",
       "      <th>f6</th>\n",
       "      <th>f7</th>\n",
       "      <th>f8</th>\n",
       "      <th>f9</th>\n",
       "    </tr>\n",
       "  </thead>\n",
       "  <tbody>\n",
       "    <tr>\n",
       "      <th>s6</th>\n",
       "      <td>-0.634254</td>\n",
       "      <td>NaN</td>\n",
       "      <td>1.996523</td>\n",
       "      <td>-1.118672</td>\n",
       "      <td>2.180328</td>\n",
       "      <td>0.190467</td>\n",
       "      <td>1.261686</td>\n",
       "    </tr>\n",
       "    <tr>\n",
       "      <th>s7</th>\n",
       "      <td>0.417660</td>\n",
       "      <td>NaN</td>\n",
       "      <td>0.047355</td>\n",
       "      <td>-0.608426</td>\n",
       "      <td>-0.268548</td>\n",
       "      <td>-0.666302</td>\n",
       "      <td>-0.344012</td>\n",
       "    </tr>\n",
       "  </tbody>\n",
       "</table>\n",
       "</div>"
      ],
      "text/plain": [
       "          f2  f4        f5        f6        f7        f8        f9\n",
       "s6 -0.634254 NaN  1.996523 -1.118672  2.180328  0.190467  1.261686\n",
       "s7  0.417660 NaN  0.047355 -0.608426 -0.268548 -0.666302 -0.344012"
      ]
     },
     "execution_count": 39,
     "metadata": {},
     "output_type": "execute_result"
    }
   ],
   "source": [
    "dff =  pd.DataFrame(np.random.randn(2, 7), index=['s6', 's7'], columns=['f2', 'f4', 'f5', 'f6', 'f7', 'f8', 'f9'])\n",
    "dff['f4'] = [np.nan, np.nan]\n",
    "dff"
   ]
  },
  {
   "cell_type": "code",
   "execution_count": null,
   "metadata": {},
   "outputs": [],
   "source": [
    "# leave this cell blank"
   ]
  },
  {
   "cell_type": "markdown",
   "metadata": {},
   "source": [
    "### 14) Append dff to df; then print df\n",
    "##### [note: after this manipulation df should contain two new rows, s6 and s7]"
   ]
  },
  {
   "cell_type": "code",
   "execution_count": 40,
   "metadata": {},
   "outputs": [
    {
     "name": "stdout",
     "output_type": "stream",
     "text": [
      "          f2        f4        f5        f6        f7        f8        f9\n",
      "s1  0.366581 -1.188306  0.310600  0.186044  1.010345 -2.277399  0.177806\n",
      "s2  0.170198 -0.932451 -1.536654 -1.568686  1.205581  0.455676  3.356597\n",
      "s3 -1.417229  0.943822 -0.653895 -0.553903 -0.185474  2.315068  1.458158\n",
      "s4 -0.664428 -0.164885  1.356832  1.369957 -1.478911  0.492715  1.675536\n",
      "s5  1.544878  1.341819  0.523116  0.566587 -0.551541 -0.986059  0.685797\n",
      "s6 -0.634254       NaN  1.996523 -1.118672  2.180328  0.190467  1.261686\n",
      "s7  0.417660       NaN  0.047355 -0.608426 -0.268548 -0.666302 -0.344012\n"
     ]
    }
   ],
   "source": [
    "# your code here\n",
    "df=df.append(dff)\n",
    "print(df)\n"
   ]
  },
  {
   "cell_type": "code",
   "execution_count": null,
   "metadata": {},
   "outputs": [],
   "source": [
    "# leave this cell blank"
   ]
  },
  {
   "cell_type": "markdown",
   "metadata": {},
   "source": [
    "### 15) Use fillna to replace NaNs in column f4 of df with 0s; then print df\n",
    "##### [note: after this manipulation df should not contain any NaNs]"
   ]
  },
  {
   "cell_type": "code",
   "execution_count": 42,
   "metadata": {},
   "outputs": [
    {
     "name": "stdout",
     "output_type": "stream",
     "text": [
      "          f2        f4        f5        f6        f7        f8        f9\n",
      "s1  0.366581 -1.188306  0.310600  0.186044  1.010345 -2.277399  0.177806\n",
      "s2  0.170198 -0.932451 -1.536654 -1.568686  1.205581  0.455676  3.356597\n",
      "s3 -1.417229  0.943822 -0.653895 -0.553903 -0.185474  2.315068  1.458158\n",
      "s4 -0.664428 -0.164885  1.356832  1.369957 -1.478911  0.492715  1.675536\n",
      "s5  1.544878  1.341819  0.523116  0.566587 -0.551541 -0.986059  0.685797\n",
      "s6 -0.634254  0.000000  1.996523 -1.118672  2.180328  0.190467  1.261686\n",
      "s7  0.417660  0.000000  0.047355 -0.608426 -0.268548 -0.666302 -0.344012\n"
     ]
    }
   ],
   "source": [
    "# your code here\n",
    "df['f4']=df['f4'].fillna(value=0)\n",
    "print(df)"
   ]
  },
  {
   "cell_type": "code",
   "execution_count": null,
   "metadata": {},
   "outputs": [],
   "source": [
    "# leave this cell blank"
   ]
  },
  {
   "cell_type": "markdown",
   "metadata": {},
   "source": [
    "### 16) Print the element at row s4 and column f6 in df"
   ]
  },
  {
   "cell_type": "code",
   "execution_count": 43,
   "metadata": {},
   "outputs": [
    {
     "name": "stdout",
     "output_type": "stream",
     "text": [
      "1.3699574270054844\n"
     ]
    }
   ],
   "source": [
    "# your code here\n",
    "print(df.loc['s4']['f6']) "
   ]
  },
  {
   "cell_type": "code",
   "execution_count": null,
   "metadata": {},
   "outputs": [],
   "source": [
    "# leave this cell blank"
   ]
  },
  {
   "cell_type": "markdown",
   "metadata": {},
   "source": [
    "### 17) Print the subsection of data in df containing rows s2 and s3, and columns f5 and f6 "
   ]
  },
  {
   "cell_type": "code",
   "execution_count": 44,
   "metadata": {},
   "outputs": [
    {
     "name": "stdout",
     "output_type": "stream",
     "text": [
      "          f5        f6\n",
      "s2 -1.536654 -1.568686\n",
      "s3 -0.653895 -0.553903\n"
     ]
    }
   ],
   "source": [
    "# your code here\n",
    "print(df.loc[['s2','s3']][['f5','f6']])"
   ]
  },
  {
   "cell_type": "code",
   "execution_count": null,
   "metadata": {},
   "outputs": [],
   "source": [
    "# leave this cell blank"
   ]
  },
  {
   "cell_type": "markdown",
   "metadata": {},
   "source": [
    "### 18) Use masking and conditional selection to print only that data in df where column f4 is greater than column f5 "
   ]
  },
  {
   "cell_type": "code",
   "execution_count": 46,
   "metadata": {},
   "outputs": [
    {
     "name": "stdout",
     "output_type": "stream",
     "text": [
      "          f2        f4        f5        f6        f7        f8        f9\n",
      "s2  0.170198 -0.932451 -1.536654 -1.568686  1.205581  0.455676  3.356597\n",
      "s3 -1.417229  0.943822 -0.653895 -0.553903 -0.185474  2.315068  1.458158\n",
      "s5  1.544878  1.341819  0.523116  0.566587 -0.551541 -0.986059  0.685797\n"
     ]
    }
   ],
   "source": [
    "# your code here\n",
    "print(df[df['f4']>df['f5']])\n"
   ]
  },
  {
   "cell_type": "code",
   "execution_count": null,
   "metadata": {},
   "outputs": [],
   "source": [
    "# leave this cell blank"
   ]
  },
  {
   "cell_type": "markdown",
   "metadata": {},
   "source": [
    "### 19) Use the describe method to print basic statistics on df (count, mean, std deviation, etc)"
   ]
  },
  {
   "cell_type": "code",
   "execution_count": 47,
   "metadata": {
    "scrolled": false
   },
   "outputs": [
    {
     "data": {
      "text/html": [
       "<div>\n",
       "<style scoped>\n",
       "    .dataframe tbody tr th:only-of-type {\n",
       "        vertical-align: middle;\n",
       "    }\n",
       "\n",
       "    .dataframe tbody tr th {\n",
       "        vertical-align: top;\n",
       "    }\n",
       "\n",
       "    .dataframe thead th {\n",
       "        text-align: right;\n",
       "    }\n",
       "</style>\n",
       "<table border=\"1\" class=\"dataframe\">\n",
       "  <thead>\n",
       "    <tr style=\"text-align: right;\">\n",
       "      <th></th>\n",
       "      <th>f2</th>\n",
       "      <th>f4</th>\n",
       "      <th>f5</th>\n",
       "      <th>f6</th>\n",
       "      <th>f7</th>\n",
       "      <th>f8</th>\n",
       "      <th>f9</th>\n",
       "    </tr>\n",
       "  </thead>\n",
       "  <tbody>\n",
       "    <tr>\n",
       "      <th>count</th>\n",
       "      <td>7.000000</td>\n",
       "      <td>7.000000e+00</td>\n",
       "      <td>7.000000</td>\n",
       "      <td>7.000000</td>\n",
       "      <td>7.000000</td>\n",
       "      <td>7.000000</td>\n",
       "      <td>7.000000</td>\n",
       "    </tr>\n",
       "    <tr>\n",
       "      <th>mean</th>\n",
       "      <td>-0.030942</td>\n",
       "      <td>6.344132e-17</td>\n",
       "      <td>0.291983</td>\n",
       "      <td>-0.246728</td>\n",
       "      <td>0.273111</td>\n",
       "      <td>-0.067976</td>\n",
       "      <td>1.181653</td>\n",
       "    </tr>\n",
       "    <tr>\n",
       "      <th>std</th>\n",
       "      <td>0.963502</td>\n",
       "      <td>9.128709e-01</td>\n",
       "      <td>1.182622</td>\n",
       "      <td>1.016160</td>\n",
       "      <td>1.245246</td>\n",
       "      <td>1.438558</td>\n",
       "      <td>1.199889</td>\n",
       "    </tr>\n",
       "    <tr>\n",
       "      <th>min</th>\n",
       "      <td>-1.417229</td>\n",
       "      <td>-1.188306e+00</td>\n",
       "      <td>-1.536654</td>\n",
       "      <td>-1.568686</td>\n",
       "      <td>-1.478911</td>\n",
       "      <td>-2.277399</td>\n",
       "      <td>-0.344012</td>\n",
       "    </tr>\n",
       "    <tr>\n",
       "      <th>25%</th>\n",
       "      <td>-0.649341</td>\n",
       "      <td>-5.486675e-01</td>\n",
       "      <td>-0.303270</td>\n",
       "      <td>-0.863549</td>\n",
       "      <td>-0.410045</td>\n",
       "      <td>-0.826181</td>\n",
       "      <td>0.431801</td>\n",
       "    </tr>\n",
       "    <tr>\n",
       "      <th>50%</th>\n",
       "      <td>0.170198</td>\n",
       "      <td>0.000000e+00</td>\n",
       "      <td>0.310600</td>\n",
       "      <td>-0.553903</td>\n",
       "      <td>-0.185474</td>\n",
       "      <td>0.190467</td>\n",
       "      <td>1.261686</td>\n",
       "    </tr>\n",
       "    <tr>\n",
       "      <th>75%</th>\n",
       "      <td>0.392120</td>\n",
       "      <td>4.719109e-01</td>\n",
       "      <td>0.939974</td>\n",
       "      <td>0.376315</td>\n",
       "      <td>1.107963</td>\n",
       "      <td>0.474195</td>\n",
       "      <td>1.566847</td>\n",
       "    </tr>\n",
       "    <tr>\n",
       "      <th>max</th>\n",
       "      <td>1.544878</td>\n",
       "      <td>1.341819e+00</td>\n",
       "      <td>1.996523</td>\n",
       "      <td>1.369957</td>\n",
       "      <td>2.180328</td>\n",
       "      <td>2.315068</td>\n",
       "      <td>3.356597</td>\n",
       "    </tr>\n",
       "  </tbody>\n",
       "</table>\n",
       "</div>"
      ],
      "text/plain": [
       "             f2            f4        f5        f6        f7        f8  \\\n",
       "count  7.000000  7.000000e+00  7.000000  7.000000  7.000000  7.000000   \n",
       "mean  -0.030942  6.344132e-17  0.291983 -0.246728  0.273111 -0.067976   \n",
       "std    0.963502  9.128709e-01  1.182622  1.016160  1.245246  1.438558   \n",
       "min   -1.417229 -1.188306e+00 -1.536654 -1.568686 -1.478911 -2.277399   \n",
       "25%   -0.649341 -5.486675e-01 -0.303270 -0.863549 -0.410045 -0.826181   \n",
       "50%    0.170198  0.000000e+00  0.310600 -0.553903 -0.185474  0.190467   \n",
       "75%    0.392120  4.719109e-01  0.939974  0.376315  1.107963  0.474195   \n",
       "max    1.544878  1.341819e+00  1.996523  1.369957  2.180328  2.315068   \n",
       "\n",
       "             f9  \n",
       "count  7.000000  \n",
       "mean   1.181653  \n",
       "std    1.199889  \n",
       "min   -0.344012  \n",
       "25%    0.431801  \n",
       "50%    1.261686  \n",
       "75%    1.566847  \n",
       "max    3.356597  "
      ]
     },
     "execution_count": 47,
     "metadata": {},
     "output_type": "execute_result"
    }
   ],
   "source": [
    "# your code here\n",
    "df.describe()\n"
   ]
  },
  {
   "cell_type": "code",
   "execution_count": null,
   "metadata": {},
   "outputs": [],
   "source": [
    "# leave this cell blank"
   ]
  },
  {
   "cell_type": "markdown",
   "metadata": {},
   "source": [
    "### 20) Use the corr method to print the correlation matrix of df"
   ]
  },
  {
   "cell_type": "code",
   "execution_count": 48,
   "metadata": {
    "scrolled": true
   },
   "outputs": [
    {
     "name": "stdout",
     "output_type": "stream",
     "text": [
      "          f2        f4        f5        f6        f7        f8        f9\n",
      "f2  1.000000  0.047482 -0.072784  0.162272 -0.064858 -0.757884 -0.313101\n",
      "f4  0.047482  1.000000  0.142773  0.225169 -0.439267  0.388614 -0.200997\n",
      "f5 -0.072784  0.142773  1.000000  0.447648  0.007869 -0.223463 -0.391876\n",
      "f6  0.162272  0.225169  0.447648  1.000000 -0.756434 -0.254206 -0.344103\n",
      "f7 -0.064858 -0.439267  0.007869 -0.756434  1.000000 -0.152738  0.187826\n",
      "f8 -0.757884  0.388614 -0.223463 -0.254206 -0.152738  1.000000  0.548579\n",
      "f9 -0.313101 -0.200997 -0.391876 -0.344103  0.187826  0.548579  1.000000\n"
     ]
    }
   ],
   "source": [
    "# your code here\n",
    "print(df.corr())"
   ]
  },
  {
   "cell_type": "code",
   "execution_count": null,
   "metadata": {},
   "outputs": [],
   "source": [
    "# leave this cell blank"
   ]
  },
  {
   "cell_type": "code",
   "execution_count": null,
   "metadata": {},
   "outputs": [],
   "source": []
  },
  {
   "cell_type": "code",
   "execution_count": null,
   "metadata": {},
   "outputs": [],
   "source": []
  }
 ],
 "metadata": {
  "kernelspec": {
   "display_name": "Python 3",
   "language": "python",
   "name": "python3"
  },
  "language_info": {
   "codemirror_mode": {
    "name": "ipython",
    "version": 3
   },
   "file_extension": ".py",
   "mimetype": "text/x-python",
   "name": "python",
   "nbconvert_exporter": "python",
   "pygments_lexer": "ipython3",
   "version": "3.7.0"
  }
 },
 "nbformat": 4,
 "nbformat_minor": 2
}
