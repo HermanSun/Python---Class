{
 "cells": [
  {
   "cell_type": "code",
   "execution_count": 4,
   "metadata": {},
   "outputs": [],
   "source": [
    "# Lambda Functions are small anonymous functions, and are used most often with map and filter functions\n",
    "\n",
    "# Lambda Fucntions are used to Replace...\n",
    "# ...this:\n",
    "#     def func(params):\n",
    "#         return SomeOperation(params)\n",
    "#     func(args)\n",
    "# ...with this:\n",
    "#     (lambda params: SomeOperation(params))(args)"
   ]
  },
  {
   "cell_type": "code",
   "execution_count": 4,
   "metadata": {
    "scrolled": true
   },
   "outputs": [
    {
     "name": "stdout",
     "output_type": "stream",
     "text": [
      "16\n",
      "16\n",
      "25\n"
     ]
    }
   ],
   "source": [
    "# Trivial Example 1\n",
    "\n",
    "# squaring number without lambda function\n",
    "def numSquare(num):\n",
    "    return num**2\n",
    "print (numSquare(4))\n",
    "\n",
    "# squaring number with lamda function\n",
    "print ((lambda x: x**2)(4))\n",
    "y= (lambda x: x**2)(5)\n",
    "print(y)\n"
   ]
  },
  {
   "cell_type": "code",
   "execution_count": 5,
   "metadata": {},
   "outputs": [
    {
     "name": "stdout",
     "output_type": "stream",
     "text": [
      "hello\n",
      "hello\n"
     ]
    }
   ],
   "source": [
    "# Trivial Example 2\n",
    "\n",
    "#  lowercasing string without lambda function\n",
    "def strLower(s):\n",
    "    return s.lower()\n",
    "print (strLower(\"HELLO\"))\n",
    "\n",
    "# lowercasing string with lamda function\n",
    "print ((lambda s: s.lower())(\"HELLO\"))"
   ]
  },
  {
   "cell_type": "markdown",
   "metadata": {},
   "source": [
    "**bold string**\n",
    "*italic string*\n",
    "$math symbols$\n",
    "~~strike through string~~"
   ]
  },
  {
   "cell_type": "markdown",
   "metadata": {},
   "source": [
    "# level 1 heading\n",
    "## level 2 heading\n",
    "### level 3 heading\n",
    "#### level 4 heading"
   ]
  },
  {
   "cell_type": "markdown",
   "metadata": {},
   "source": [
    "* list1 item 1.1\n",
    "* list1 item 1.2\n",
    "* list2 item 2.1\n",
    "* list2 sublist 2.1.1\n",
    "* list2 sublist 2.1.1.1"
   ]
  },
  {
   "cell_type": "markdown",
   "metadata": {},
   "source": [
    "**bold string**\n",
    "*italic string*\n",
    "$math symbols$\n",
    "~~strike through string~~"
   ]
  },
  {
   "cell_type": "code",
   "execution_count": 11,
   "metadata": {},
   "outputs": [
    {
     "name": "stdout",
     "output_type": "stream",
     "text": [
      "hello world\n",
      "Wall time: 0 ns\n"
     ]
    }
   ],
   "source": [
    "%%time\n",
    "print(\"hello world\")"
   ]
  },
  {
   "cell_type": "code",
   "execution_count": 13,
   "metadata": {},
   "outputs": [
    {
     "name": "stdout",
     "output_type": "stream",
     "text": [
      " Volume in drive C is Windows\n",
      " Volume Serial Number is 709E-468B\n",
      "\n",
      " Directory of C:\\Users\\herma\\Downloads\\week2\n",
      "\n",
      "01/13/2019  05:17 PM    <DIR>          .\n",
      "01/13/2019  05:17 PM    <DIR>          ..\n",
      "01/13/2019  04:51 PM    <DIR>          .ipynb_checkpoints\n",
      "01/13/2019  03:25 PM             2,272 FilterFunctions.ipynb\n",
      "01/13/2019  05:17 PM             2,943 LambdaFunctions.ipynb\n",
      "01/13/2019  04:49 PM             2,340 ListComprehension.ipynb\n",
      "01/13/2019  03:25 PM             4,002 MapFunctions.ipynb\n",
      "01/13/2019  03:25 PM            11,316 NumPy-Part1.ipynb\n",
      "01/13/2019  03:25 PM             9,623 NumPy-Part2.ipynb\n",
      "01/13/2019  03:25 PM            16,680 RegularExpressions.ipynb\n",
      "01/13/2019  03:25 PM             6,196 StringMethods.ipynb\n",
      "               8 File(s)         55,372 bytes\n",
      "               3 Dir(s)  134,377,975,808 bytes free\n"
     ]
    }
   ],
   "source": [
    "!dir"
   ]
  },
  {
   "cell_type": "code",
   "execution_count": null,
   "metadata": {},
   "outputs": [],
   "source": []
  }
 ],
 "metadata": {
  "kernelspec": {
   "display_name": "Python 3",
   "language": "python",
   "name": "python3"
  },
  "language_info": {
   "codemirror_mode": {
    "name": "ipython",
    "version": 3
   },
   "file_extension": ".py",
   "mimetype": "text/x-python",
   "name": "python",
   "nbconvert_exporter": "python",
   "pygments_lexer": "ipython3",
   "version": "3.7.0"
  }
 },
 "nbformat": 4,
 "nbformat_minor": 2
}
