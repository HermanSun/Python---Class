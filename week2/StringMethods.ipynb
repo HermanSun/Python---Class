{
 "cells": [
  {
   "cell_type": "code",
   "execution_count": 3,
   "metadata": {},
   "outputs": [],
   "source": [
    "# Before you get into regular expressions, be sure to review the following String methods.\n",
    "# These are usually faster than regular experssions, because the implementation has been optimized for the purpose, \n",
    "# instead of the more generalized regular expression engine.\n",
    "#\n",
    "# https://docs.python.org/3/library/stdtypes.html\n",
    "#\n",
    "# str.capitalize(): \n",
    "#    - Return a copy of the string with its first character capitalized and the rest lowercased.\n",
    "# str.title():\n",
    "#    - Return a titlecased version of the string where words start with an uppercase character \n",
    "#      and the remaining characters are lowercase.\n",
    "# str.upper():\n",
    "#    - Return a copy of the string with all the cased characters [4] converted to uppercase.\n",
    "# str.lower():\n",
    "#   - Return a copy of the string with all the cased characters [4] converted to lowercase.\n",
    "#\n",
    "# str.strip([chars]):\n",
    "#    - Return a copy of the string with the leading and trailing characters removed. \n",
    "#\n",
    "# str.find(sub[, start[, end]]): \n",
    "#    - Return the lowest index in the string where substring sub is found within the slice s[start:end].\n",
    "# str.index(sub[, start[, end]]):\n",
    "#    - Like find(), but raise ValueError when the substring is not found.\n",
    "# str.startswith(prefix[, start[, end]]):\n",
    "#    - Return True if string starts with the prefix, otherwise return False. prefix can also be a tuple of prefixes to look for. \n",
    "#      With optional start, test string beginning at that position. With optional end, stop comparing string at that position.\n",
    "# str.endswith(suffix[, start[, end]]):\n",
    "#    - Return True if the string ends with the specified suffix, otherwise return False\n",
    "# \n",
    "# str.split(sep=None, maxsplit=-1): \n",
    "#    - Return a list of the words in the string, using sep as the delimiter string. \n",
    "#      If maxsplit is given, at most maxsplit splits are done (thus, the list will have at most maxsplit+1 elements).\n",
    "# str.splitlines([keepends]):\n",
    "#    - Return a list of the lines in the string, breaking at line boundaries. \n",
    "# str.join(iterable):\n",
    "#    - Return a string which is the concatenation of the strings in iterable. \n",
    "# \n",
    "# static str.maketrans(x[, y[, z]]):\n",
    "#    - This static method returns a translation table usable for str.translate().\n",
    "# str.translate(table):\n",
    "#    - Return a copy of the string in which each character has been mapped through the given translation table. \n",
    "# str.replace(old, new[, count]):\n",
    "#    - Return a copy of the string with all occurrences of substring old replaced by new.\n",
    "#      If the optional argument count is given, only the first count occurrences are replaced.\n",
    "#\n",
    "# string.ascii_letters - [a-zA-Z]\n",
    "# string.ascii_lowercase - [a-z]\n",
    "# string.ascii_uppercase - [A-Z]\n",
    "# string.digits - [0-9]\n",
    "# string.punctuation - !\"#$%&'()*+,-./:;<=>?@[\\]^_`{|}~\n",
    "#\n",
    "# string formatting"
   ]
  },
  {
   "cell_type": "code",
   "execution_count": 6,
   "metadata": {},
   "outputs": [
    {
     "name": "stdout",
     "output_type": "stream",
     "text": [
      "{97: 49, 101: 50, 105: 51, 111: 52, 117: 53}\n",
      "Hello World\n",
      "H2ll4 W4rld\n",
      "STR\n",
      "str\n"
     ]
    }
   ],
   "source": [
    "# Example 1 - using translate\n",
    "\n",
    "# create translation table\n",
    "inchar = \"aeiou\"\n",
    "outchar = \"12345\"\n",
    "transtab = str.maketrans(inchar, outchar)\n",
    "k='STR'\n",
    "# use translation table to translate a string\n",
    "mystr = \"Hello World\"\n",
    "mystrtrans = mystr.translate(transtab)\n",
    "print(transtab)\n",
    "print (mystr)\n",
    "print (mystrtrans)\n",
    "print(str.upper('str'))\n",
    "print(k.lower())"
   ]
  },
  {
   "cell_type": "code",
   "execution_count": 1,
   "metadata": {},
   "outputs": [
    {
     "name": "stdout",
     "output_type": "stream",
     "text": [
      "Hey how are you all doing. Are you all ready to eat?\n",
      "Hey how are you doing. Are you ready to eat?\n"
     ]
    }
   ],
   "source": [
    "# Example 2 - using replace\n",
    "\n",
    "mystr = \"Hey how are you all doing. Are you all ready to eat?\"\n",
    "mystrrepl = mystr.replace(\"you all\", \"you\")\n",
    "print (mystr)\n",
    "print (mystrrepl)"
   ]
  },
  {
   "cell_type": "code",
   "execution_count": 2,
   "metadata": {},
   "outputs": [
    {
     "name": "stdout",
     "output_type": "stream",
     "text": [
      "abcdefghijklmnopqrstuvwxyzABCDEFGHIJKLMNOPQRSTUVWXYZ\n",
      "abcdefghijklmnopqrstuvwxyz\n",
      "ABCDEFGHIJKLMNOPQRSTUVWXYZ\n",
      "0123456789\n",
      "!\"#$%&'()*+,-./:;<=>?@[\\]^_`{|}~\n"
     ]
    }
   ],
   "source": [
    "# string methods\n",
    "import string\n",
    "print (string.ascii_letters)\n",
    "print (string.ascii_lowercase)\n",
    "print (string.ascii_uppercase)\n",
    "print (string.digits)\n",
    "print (string.punctuation)"
   ]
  },
  {
   "cell_type": "code",
   "execution_count": 5,
   "metadata": {},
   "outputs": [
    {
     "name": "stdout",
     "output_type": "stream",
     "text": [
      ",Hi there!\n",
      "Hi there!,; How are you?\n"
     ]
    }
   ],
   "source": [
    "# string formatting\n",
    "\n",
    "str1 = \"Hi there!\"\n",
    "str2 = \"How are you?\"\n",
    "\n",
    "mystr = (\",%s\" % str1)\n",
    "print (mystr)\n",
    "\n",
    "mystr = (\"%s,; %s\" % (str1,str2))\n",
    "print (mystr)"
   ]
  },
  {
   "cell_type": "code",
   "execution_count": null,
   "metadata": {},
   "outputs": [],
   "source": []
  }
 ],
 "metadata": {
  "kernelspec": {
   "display_name": "Python 3",
   "language": "python",
   "name": "python3"
  },
  "language_info": {
   "codemirror_mode": {
    "name": "ipython",
    "version": 3
   },
   "file_extension": ".py",
   "mimetype": "text/x-python",
   "name": "python",
   "nbconvert_exporter": "python",
   "pygments_lexer": "ipython3",
   "version": "3.7.0"
  }
 },
 "nbformat": 4,
 "nbformat_minor": 2
}
