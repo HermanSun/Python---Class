{
 "cells": [
  {
   "cell_type": "code",
   "execution_count": 2,
   "metadata": {},
   "outputs": [],
   "source": [
    "# Reference: \n",
    "# online free docs:          https://pandas.pydata.org/pandas-docs/stable/\n",
    "# book old edition free:  https://www.safaribooksonline.com/library/view/python-data-science/9781491912126/\n",
    "# book new edition pay: https://smile.amazon.com/Python-Data-Science-Handbook-Essential/dp/1491912057/"
   ]
  },
  {
   "cell_type": "code",
   "execution_count": 3,
   "metadata": {},
   "outputs": [],
   "source": [
    "# pandas is a python library used for data manipulation and analysis\n",
    "# two key data structures - series objects and dataframes"
   ]
  },
  {
   "cell_type": "code",
   "execution_count": 1,
   "metadata": {},
   "outputs": [],
   "source": [
    "import numpy as np\n",
    "import pandas as pd"
   ]
  },
  {
   "cell_type": "code",
   "execution_count": 5,
   "metadata": {},
   "outputs": [],
   "source": [
    "##### pandas series objects ####\n",
    "# very similar to numpy arrays, but with axes labels (as denoted by index)"
   ]
  },
  {
   "cell_type": "code",
   "execution_count": 6,
   "metadata": {},
   "outputs": [],
   "source": [
    "##### creating pandas series objects #####"
   ]
  },
  {
   "cell_type": "code",
   "execution_count": 8,
   "metadata": {},
   "outputs": [
    {
     "name": "stdout",
     "output_type": "stream",
     "text": [
      "[10, 20, 30]\n",
      "0    10\n",
      "1    20\n",
      "2    30\n",
      "dtype: int64\n"
     ]
    }
   ],
   "source": [
    "# create a pandas series using a list with default indices\n",
    "lst = [10, 20, 30]\n",
    "ser = pd.Series(data=lst)\n",
    "print(lst)\n",
    "print(ser)"
   ]
  },
  {
   "cell_type": "code",
   "execution_count": 6,
   "metadata": {},
   "outputs": [
    {
     "name": "stdout",
     "output_type": "stream",
     "text": [
      "a    10\n",
      "b    20\n",
      "c    30\n",
      "dtype: int64\n"
     ]
    }
   ],
   "source": [
    "# create a pandas series using a list with labeled indices\n",
    "lst = [10, 20, 30]\n",
    "idx = ['a', 'b', 'c']\n",
    "ser = pd.Series(data=lst, index=idx)\n",
    "print(ser)"
   ]
  },
  {
   "cell_type": "code",
   "execution_count": 7,
   "metadata": {},
   "outputs": [
    {
     "name": "stdout",
     "output_type": "stream",
     "text": [
      "0    100\n",
      "1    200\n",
      "2    300\n",
      "dtype: int32\n",
      "[100 200 300]\n"
     ]
    }
   ],
   "source": [
    "# create a pandas series using an array with default indices\n",
    "arr = np.array([100, 200, 300])\n",
    "ser = pd.Series(data=arr)\n",
    "print(ser)\n",
    "print(arr)"
   ]
  },
  {
   "cell_type": "code",
   "execution_count": 9,
   "metadata": {},
   "outputs": [
    {
     "name": "stdout",
     "output_type": "stream",
     "text": [
      "x    100\n",
      "y    200\n",
      "z    300\n",
      "dtype: int32\n",
      "[100 200 300]\n"
     ]
    }
   ],
   "source": [
    "# create a pandas series using an array with labeled indices\n",
    "arr = np.array([100, 200, 300])\n",
    "idx = ['x','y','z']\n",
    "ser = pd.Series(data=arr, index=idx)\n",
    "print(ser)\n",
    "print(arr)"
   ]
  },
  {
   "cell_type": "code",
   "execution_count": 11,
   "metadata": {},
   "outputs": [
    {
     "data": {
      "text/plain": [
       "p    1000\n",
       "q    2000\n",
       "r    3000\n",
       "dtype: int64"
      ]
     },
     "execution_count": 11,
     "metadata": {},
     "output_type": "execute_result"
    }
   ],
   "source": [
    "# create a pandas series using a dictionary with labeled indices\n",
    "dct = {'p':1000, 'q':2000, 'r':3000}\n",
    "ser = pd.Series(data=dct)\n",
    "ser"
   ]
  },
  {
   "cell_type": "code",
   "execution_count": 10,
   "metadata": {},
   "outputs": [
    {
     "name": "stdout",
     "output_type": "stream",
     "text": [
      "a   -2.019794\n",
      "b    1.129415\n",
      "c   -0.717733\n",
      "Name: X, dtype: float64\n",
      "\n",
      "[0.83943571 0.12127115 3.00168469]\n"
     ]
    }
   ],
   "source": [
    "# you can give the series a name\n",
    "ser = pd.Series(np.random.normal(size=3), index=['a','b','c'], name='X')\n",
    "print(ser)\n",
    "print()\n",
    "print(np.random.normal(size=3))"
   ]
  },
  {
   "cell_type": "code",
   "execution_count": 13,
   "metadata": {},
   "outputs": [],
   "source": [
    "##### indexing pandas series #####"
   ]
  },
  {
   "cell_type": "code",
   "execution_count": 11,
   "metadata": {},
   "outputs": [
    {
     "name": "stdout",
     "output_type": "stream",
     "text": [
      "0    10\n",
      "1    20\n",
      "2    30\n",
      "3    40\n",
      "4    50\n",
      "dtype: int64\n",
      "30\n"
     ]
    }
   ],
   "source": [
    "# index using default indices\n",
    "ser = pd.Series(data=[10,20,30,40,50])\n",
    "print (ser)\n",
    "print (ser[2])"
   ]
  },
  {
   "cell_type": "code",
   "execution_count": 2,
   "metadata": {},
   "outputs": [
    {
     "name": "stdout",
     "output_type": "stream",
     "text": [
      "2    10\n",
      "3    20\n",
      "4    30\n",
      "5    40\n",
      "6    50\n",
      "dtype: int64\n",
      "10\n",
      "30\n"
     ]
    }
   ],
   "source": [
    "# index using labeled indices\n",
    "ser = pd.Series(data=[10,20,30,40,50],index=[2,3,4,5,6])\n",
    "print (ser)\n",
    "print (ser[2])\n",
    "print (ser.iloc[2])"
   ]
  },
  {
   "cell_type": "code",
   "execution_count": 16,
   "metadata": {},
   "outputs": [
    {
     "name": "stdout",
     "output_type": "stream",
     "text": [
      "p    100\n",
      "q    200\n",
      "r    300\n",
      "s    400\n",
      "t    500\n",
      "dtype: int64\n",
      "300\n",
      "300\n"
     ]
    }
   ],
   "source": [
    "# index using labeled indices\n",
    "ser = pd.Series(data=[100,200,300,400,500], index=['p','q','r','s','t'])\n",
    "print (ser)\n",
    "print (ser['r'])\n",
    "print (ser[2])"
   ]
  },
  {
   "cell_type": "code",
   "execution_count": 20,
   "metadata": {},
   "outputs": [
    {
     "name": "stdout",
     "output_type": "stream",
     "text": [
      "1    1\n",
      "2    2\n",
      "3    3\n",
      "4    4\n",
      "5    5\n",
      "6    6\n",
      "dtype: int32\n",
      "3\n",
      "4\n"
     ]
    }
   ],
   "source": [
    "ser = pd.Series(data=np.array([1,2,3,4,5,6]),index=[1,2,3,4,5,6])\n",
    "print (ser)\n",
    "print (ser[3])\n",
    "print (ser.iloc[3])"
   ]
  },
  {
   "cell_type": "code",
   "execution_count": null,
   "metadata": {},
   "outputs": [],
   "source": []
  }
 ],
 "metadata": {
  "kernelspec": {
   "display_name": "Python 3",
   "language": "python",
   "name": "python3"
  },
  "language_info": {
   "codemirror_mode": {
    "name": "ipython",
    "version": 3
   },
   "file_extension": ".py",
   "mimetype": "text/x-python",
   "name": "python",
   "nbconvert_exporter": "python",
   "pygments_lexer": "ipython3",
   "version": "3.7.0"
  }
 },
 "nbformat": 4,
 "nbformat_minor": 2
}
