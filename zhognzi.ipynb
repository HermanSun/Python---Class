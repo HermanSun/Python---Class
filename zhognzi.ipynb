{
 "cells": [
  {
   "cell_type": "code",
   "execution_count": 167,
   "metadata": {},
   "outputs": [],
   "source": [
    "Fh = open('-800GPR2.txt','r') \n",
    "t=Fh.read() \n",
    "Fh.close()"
   ]
  },
  {
   "cell_type": "code",
   "execution_count": 168,
   "metadata": {},
   "outputs": [],
   "source": [
    "import re\n",
    "import string"
   ]
  },
  {
   "cell_type": "code",
   "execution_count": 169,
   "metadata": {},
   "outputs": [],
   "source": [
    "k=t.split('\\n')\n",
    "\n",
    "d=1\n",
    "lst={}\n",
    "for i in k:\n",
    "    lst[d]=''\n",
    "    for x in i:\n",
    "         if x in string.ascii_letters  or x in string.digits or x in string.punctuation or x ==' ':\n",
    "            lst[d] +=  x \n",
    "            \n",
    "    d+=1\n",
    "    \n",
    "\n",
    "        "
   ]
  },
  {
   "cell_type": "code",
   "execution_count": 171,
   "metadata": {},
   "outputs": [
    {
     "name": "stdout",
     "output_type": "stream",
     "text": [
      "{1: 'https://pan.baidu.com/s/1vnM7t9RU5YeMPSihDu-U5w 83b8  ', 2: 'https://pan.baidu.com/s/1HnfASlsLm_Tja1T86Gm8Sw 4ol8 ', 3: 'https://pan.baidu.com/s/1_dOhRHqvSwpMI6fMfi6BTA vl2m  [/vipshow]', 4: 'https://pan.baidu.com/s/1YtQlKBsmokODyEw27__l_w vktv  ', 5: 'https://pan.baidu.com/s/1m1Q0cZ5zPuBVtgHLCiFaCQ brez  [/vipshow]', 6: 'https://pan.baidu.com/s/15cdhddLD2-GhIvd7ISbf0g earp  [/vipshow]', 7: 'https://pan.baidu.com/s/1D6z0Ieq7N4nybRwB54VVtg ipwy   [/vipshow]', 8: 'https://pan.baidu.com/s/1y1Z4D89URAFn2PSLsGYGRA pejj [/vipshow]', 9: 'https://pan.baidu.com/s/1Z2NsKGXjnVT0PchErUC0-Q qtye', 10: 'https://pan.baidu.com/s/10iUkd6eLmh5xuzsHxvEd9g b987  [/vipshow]', 11: 'https://pan.baidu.com/s/1lFmnHPtj-M0BiAT24Yqouw he2a [/vipshow]', 12: 'https://pan.baidu.com/s/1D9vBMoe8sQe-Eu2hueZJZw 7c0f  [/vipshow]', 13: 'https://pan.baidu.com/s/1cBr3qvSW7mpLeOSH9JWu6w sr7r [/vipshow]', 14: 'https://pan.baidu.com/s/10ec_D3kSDupCz1Dj4H38FA 6d0n [/vipshow]', 15: 'https://pan.baidu.com/s/1k2xt8WLyuAjpLQ6VZMA1EA yk7v[/vipshow] www.uzxun.me', 16: 'https://pan.baidu.com/s/1dbzwOWpImQ3J7F_so29dPQ cpk3 [/vipshow]', 17: 'https://pan.baidu.com/s/1pL84gwr ycqv [/vipshow]', 18: 'https://pan.baidu.com/s/1oETN_28zl4__hDtrwxf0Iw n1cj  [/vipshow]', 19: 'https://pan.baidu.com/s/13UT3zDGgr9xU4x-oosP0KQ n7c4  [/vipshow]', 20: 'https://pan.baidu.com/s/1CtuCcrvGO3uKYYcbu5zViA ct0i  [/vipshow]', 21: 'https://pan.baidu.com/s/1dLGUtGJZh0eed3-PySqoVg 3oai', 22: 'https://pan.baidu.com/s/1Eus7Qhkt6U_MBWu5NB_lAw nb4n  [/vipshow]', 23: 'https://pan.baidu.com/s/15BK64ui-BTuSHVWj1MwFnw vsu5 [/vipshow]', 24: 'https://pan.baidu.com/s/1Kt0DoOWhdMUjPP4BmLaKsw ocls[/vipshow]', 25: 'https://pan.baidu.com/s/1q_2PM1lInoN1LmSCAILjhQ loz7  [/vipshow]', 26: 'https://pan.baidu.com/s/1vaI3rypaBkviff0j9tofzg 10wv [/vipshow]', 27: 'https://pan.baidu.com/s/1mSg_ICnOEoZuHBG_is8PxQ 66zt [/vipshow]', 28: 'https://pan.baidu.com/s/14-6IqZLjc2oVhBmWiQczEw gmum[/vipshow]', 29: 'https://pan.baidu.com/s/1TP5FaGh92DfMnn47IsAsKg x5n2', 30: 'https://pan.baidu.com/s/171jSOG0nnY0O8O9vYow85g jwhz [/vipshow]', 31: 'https://pan.baidu.com/s/1eOAYDZpfdW3lkDjEhSFN1A 3kkt [/vipshow]', 32: 'https://pan.baidu.com/s/1aOfM8E6vJQNY2umqjuRndg sckp', 33: 'https://pan.baidu.com/s/1hgsV_Z2XVDwGUlakldivrQ lyoq   [/vipshow]', 34: 'https://pan.baidu.com/s/1RLf6YJBjzNnah0tj5Ous9Q 1z31  ', 35: 'https://pan.baidu.com/s/1rCf_BaEetPryMHhL__-kCQ hhsi', 36: 'https://pan.baidu.com/s/1ShHNYfd-874s9S39V0OgWQ c8th', 37: 'https://pan.baidu.com/s/1Y-FwUd1NORn5TTMLW-fQ1A r2rj www.uzxun.me', 38: 'https://pan.baidu.com/s/1FyC1GnzlIC44q9Y7jXIMaw gny4 www.uzxun.me', 39: 'https://pan.baidu.com/s/1Nsfg-tUFix-BjgdyMoEU3Q 9spi www.uzxun.me', 40: 'https://pan.baidu.com/s/1_xhXTkN7hQ3w4JyqjUWXaw hh3x', 41: 'https://pan.baidu.com/s/1i6iIzWT idbd', 42: 'https://pan.baidu.com/s/1bqzPSIF hz5g www.uzxun.me', 43: 'https://pan.baidu.com/s/1gKmRsHfggPzyZwilo08Ayg uqhi', 44: 'https://pan.baidu.com/s/1c1IJJAo, mfmd'}\n"
     ]
    }
   ],
   "source": [
    "newlst={}    \n",
    "z=1\n",
    "\n",
    "    \n",
    "for i in lst.values():    \n",
    "    if i !='':\n",
    "        if not i.startswith('www') and not i.startswith('http://www.'):\n",
    "            newlst[z]=i.strip(':')\n",
    "            z+=1        \n",
    "tem =1\n",
    "newlst1={}\n",
    "for i in newlst.keys():\n",
    "    if newlst[i].startswith('https://pan.'):\n",
    "        newlst1[tem]=newlst[i]\n",
    "        tem +=1\n",
    "print(newlst1)"
   ]
  },
  {
   "cell_type": "code",
   "execution_count": 172,
   "metadata": {},
   "outputs": [
    {
     "name": "stdout",
     "output_type": "stream",
     "text": [
      "{1: ['https://pan.baidu.com/s/1vnM7t9RU5YeMPSihDu-U5w', '83b8'], 2: ['https://pan.baidu.com/s/1HnfASlsLm_Tja1T86Gm8Sw', '4ol8'], 3: ['https://pan.baidu.com/s/1_dOhRHqvSwpMI6fMfi6BTA', 'vl2m'], 4: ['https://pan.baidu.com/s/1YtQlKBsmokODyEw27__l_w', 'vktv'], 5: ['https://pan.baidu.com/s/1m1Q0cZ5zPuBVtgHLCiFaCQ', 'brez'], 6: ['https://pan.baidu.com/s/15cdhddLD2-GhIvd7ISbf0g', 'earp'], 7: ['https://pan.baidu.com/s/1D6z0Ieq7N4nybRwB54VVtg', 'ipwy'], 8: ['https://pan.baidu.com/s/1y1Z4D89URAFn2PSLsGYGRA', 'pejj'], 9: ['https://pan.baidu.com/s/1Z2NsKGXjnVT0PchErUC0-Q', 'qtye'], 10: ['https://pan.baidu.com/s/10iUkd6eLmh5xuzsHxvEd9g', 'b987'], 11: ['https://pan.baidu.com/s/1lFmnHPtj-M0BiAT24Yqouw', 'he2a'], 12: ['https://pan.baidu.com/s/1D9vBMoe8sQe-Eu2hueZJZw', '7c0f'], 13: ['https://pan.baidu.com/s/1cBr3qvSW7mpLeOSH9JWu6w', 'sr7r'], 14: ['https://pan.baidu.com/s/10ec_D3kSDupCz1Dj4H38FA', '6d0n'], 15: ['https://pan.baidu.com/s/1k2xt8WLyuAjpLQ6VZMA1EA', 'yk7v[/vipshow]'], 16: ['https://pan.baidu.com/s/1dbzwOWpImQ3J7F_so29dPQ', 'cpk3'], 17: ['https://pan.baidu.com/s/1pL84gwr', 'ycqv'], 18: ['https://pan.baidu.com/s/1oETN_28zl4__hDtrwxf0Iw', 'n1cj'], 19: ['https://pan.baidu.com/s/13UT3zDGgr9xU4x-oosP0KQ', 'n7c4'], 20: ['https://pan.baidu.com/s/1CtuCcrvGO3uKYYcbu5zViA', 'ct0i'], 21: ['https://pan.baidu.com/s/1dLGUtGJZh0eed3-PySqoVg', '3oai'], 22: ['https://pan.baidu.com/s/1Eus7Qhkt6U_MBWu5NB_lAw', 'nb4n'], 23: ['https://pan.baidu.com/s/15BK64ui-BTuSHVWj1MwFnw', 'vsu5'], 24: ['https://pan.baidu.com/s/1Kt0DoOWhdMUjPP4BmLaKsw', 'ocls[/vipshow]'], 25: ['https://pan.baidu.com/s/1q_2PM1lInoN1LmSCAILjhQ', 'loz7'], 26: ['https://pan.baidu.com/s/1vaI3rypaBkviff0j9tofzg', '10wv'], 27: ['https://pan.baidu.com/s/1mSg_ICnOEoZuHBG_is8PxQ', '66zt'], 28: ['https://pan.baidu.com/s/14-6IqZLjc2oVhBmWiQczEw', 'gmum[/vipshow]'], 29: ['https://pan.baidu.com/s/1TP5FaGh92DfMnn47IsAsKg', 'x5n2'], 30: ['https://pan.baidu.com/s/171jSOG0nnY0O8O9vYow85g', 'jwhz'], 31: ['https://pan.baidu.com/s/1eOAYDZpfdW3lkDjEhSFN1A', '3kkt'], 32: ['https://pan.baidu.com/s/1aOfM8E6vJQNY2umqjuRndg', 'sckp'], 33: ['https://pan.baidu.com/s/1hgsV_Z2XVDwGUlakldivrQ', 'lyoq'], 34: ['https://pan.baidu.com/s/1RLf6YJBjzNnah0tj5Ous9Q', '1z31'], 35: ['https://pan.baidu.com/s/1rCf_BaEetPryMHhL__-kCQ', 'hhsi'], 36: ['https://pan.baidu.com/s/1ShHNYfd-874s9S39V0OgWQ', 'c8th'], 37: ['https://pan.baidu.com/s/1Y-FwUd1NORn5TTMLW-fQ1A', 'r2rj'], 38: ['https://pan.baidu.com/s/1FyC1GnzlIC44q9Y7jXIMaw', 'gny4'], 39: ['https://pan.baidu.com/s/1Nsfg-tUFix-BjgdyMoEU3Q', '9spi'], 40: ['https://pan.baidu.com/s/1_xhXTkN7hQ3w4JyqjUWXaw', 'hh3x'], 41: ['https://pan.baidu.com/s/1i6iIzWT', 'idbd'], 42: ['https://pan.baidu.com/s/1bqzPSIF', 'hz5g'], 43: ['https://pan.baidu.com/s/1gKmRsHfggPzyZwilo08Ayg', 'uqhi'], 44: ['https://pan.baidu.com/s/1c1IJJAo,', 'mfmd']}\n"
     ]
    }
   ],
   "source": [
    "for i,j in newlst1.items():\n",
    "    temlst=j.split(' ')\n",
    "    newlst1[i]=temlst[:2]\n",
    "print (newlst1)"
   ]
  },
  {
   "cell_type": "code",
   "execution_count": 173,
   "metadata": {},
   "outputs": [],
   "source": [
    "import csv"
   ]
  },
  {
   "cell_type": "code",
   "execution_count": 151,
   "metadata": {},
   "outputs": [],
   "source": [
    "with open('zhongzi.csv', 'w',newline='') as csvfile:\n",
    "    fieldnames = ['index', 'link','code']\n",
    "    writer = csv.DictWriter(csvfile, fieldnames=fieldnames)\n",
    "    writer.writeheader()\n",
    "    for i,j in newlst1.items():\n",
    "        writer.writerow({'index': i, 'link': j[0],'code': j[1]})\n",
    "csvfile.close()"
   ]
  },
  {
   "cell_type": "code",
   "execution_count": 179,
   "metadata": {},
   "outputs": [],
   "source": [
    "with open('zhongzi.csv','a+',newline='') as f:\n",
    "    fieldnames = ['index', 'link','code']\n",
    "    writer = csv.DictWriter(f, fieldnames=fieldnames)\n",
    "    for i,j in newlst1.items():\n",
    "        writer.writerow({'index': i, 'link': j[0],'code': j[1]})\n",
    "csvfile.close()"
   ]
  }
 ],
 "metadata": {
  "kernelspec": {
   "display_name": "Python 3",
   "language": "python",
   "name": "python3"
  },
  "language_info": {
   "codemirror_mode": {
    "name": "ipython",
    "version": 3
   },
   "file_extension": ".py",
   "mimetype": "text/x-python",
   "name": "python",
   "nbconvert_exporter": "python",
   "pygments_lexer": "ipython3",
   "version": "3.7.0"
  }
 },
 "nbformat": 4,
 "nbformat_minor": 2
}
